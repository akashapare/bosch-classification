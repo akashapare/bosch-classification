{
  "nbformat": 4,
  "nbformat_minor": 0,
  "metadata": {
    "colab": {
      "name": "mobile_net.ipynb",
      "provenance": [],
      "collapsed_sections": [],
      "mount_file_id": "1i9ehXIwLX9eY8A_vLjQlLaCwen28azrC",
      "authorship_tag": "ABX9TyPMWRlHQqXUGWpsQ5UObC9Q",
      "include_colab_link": true
    },
    "kernelspec": {
      "name": "python3",
      "display_name": "Python 3"
    },
    "language_info": {
      "name": "python"
    },
    "accelerator": "GPU"
  },
  "cells": [
    {
      "cell_type": "markdown",
      "metadata": {
        "id": "view-in-github",
        "colab_type": "text"
      },
      "source": [
        "<a href=\"https://colab.research.google.com/github/akashapare/bosch-classification/blob/main/mobile_net.ipynb\" target=\"_parent\"><img src=\"https://colab.research.google.com/assets/colab-badge.svg\" alt=\"Open In Colab\"/></a>"
      ]
    },
    {
      "cell_type": "code",
      "metadata": {
        "id": "XGjwSO1lMnUY"
      },
      "source": [
        ""
      ],
      "execution_count": null,
      "outputs": []
    },
    {
      "cell_type": "code",
      "metadata": {
        "id": "vkbrcI_Wmx54"
      },
      "source": [
        "from __future__ import print_function\n",
        "import tensorflow as tf\n",
        "from tensorflow import keras\n",
        "from keras.datasets import cifar10\n",
        "from keras.preprocessing.image import ImageDataGenerator\n",
        "from keras.models import Sequential\n",
        "from keras.layers import Dense, Dropout, Activation, Flatten\n",
        "from keras.layers import Conv2D, MaxPooling2D\n",
        "import os\n",
        "import numpy as np\n",
        "import matplotlib.pyplot as plt\n",
        "from PIL import Image,ImageFilter,ImageStat,ImageTransform, ImageOps,ImageShow\n",
        "import random\n",
        "from tensorflow.keras.metrics import categorical_accuracy, top_k_categorical_accuracy, categorical_crossentropy\n",
        "from tensorflow.keras.models import Sequential\n",
        "from tensorflow.keras.callbacks import EarlyStopping, ReduceLROnPlateau, ModelCheckpoint\n",
        "from tensorflow.keras.optimizers import Adam\n",
        "from tensorflow.keras.applications import MobileNet\n",
        "from tensorflow.keras.applications.mobilenet import preprocess_input\n",
        "#start = dt.datetime.now()"
      ],
      "execution_count": 1,
      "outputs": []
    },
    {
      "cell_type": "markdown",
      "metadata": {
        "id": "Uvq5ran_O81z"
      },
      "source": [
        ""
      ]
    },
    {
      "cell_type": "code",
      "metadata": {
        "id": "IpvEAZLxnB5R"
      },
      "source": [
        "import zipfile\n",
        "import os\n",
        "\n",
        "zip_ref = zipfile.ZipFile('/content/drive/MyDrive/dataset.zip', 'r') #Opens the zip file in read mode\n",
        "zip_ref.extractall('/content') #Extracts the files into the /tmp folder\n",
        "zip_ref.close()\n"
      ],
      "execution_count": 2,
      "outputs": []
    },
    {
      "cell_type": "code",
      "metadata": {
        "id": "7xj50JoDnCE_"
      },
      "source": [
        "INPUT_DIR = '/content/dataset'\n",
        "#INPUT_DIR = '/content/drive/MyDrive/edge dataset'\n",
        "#INPUT_DIR = '/content/drive/MyDrive/gray dataset'\n",
        "#INPUT_DIR = '/content/drive/MyDrive/gray_eq dataset'"
      ],
      "execution_count": 3,
      "outputs": []
    },
    {
      "cell_type": "code",
      "metadata": {
        "id": "dGDihPtoKKVG"
      },
      "source": [
        "BASE_SIZE =512 \n",
        "NCATS = 5\n",
        "tf.random.set_seed(1996)"
      ],
      "execution_count": 3,
      "outputs": []
    },
    {
      "cell_type": "code",
      "metadata": {
        "id": "tnebmyXINP0F"
      },
      "source": [
        "\n",
        "\n",
        "\n",
        "EPOCHS = 50\n",
        "size = 512\n",
        "batchsize = 50"
      ],
      "execution_count": 7,
      "outputs": []
    },
    {
      "cell_type": "markdown",
      "metadata": {
        "id": "bLEXHhKbcEvZ"
      },
      "source": [
        "#model for colour images"
      ]
    },
    {
      "cell_type": "code",
      "metadata": {
        "colab": {
          "base_uri": "https://localhost:8080/"
        },
        "id": "g_0aJh4uNjYa",
        "outputId": "2efd5299-6089-41d0-de51-5859e5805861"
      },
      "source": [
        "model = MobileNet(input_shape=(size, size, 3), alpha=1., weights=None, classes=NCATS)\n",
        "model.compile(optimizer=Adam(lr=0.002), loss='categorical_crossentropy',\n",
        "              metrics=['accuracy'])\n",
        "print(model.summary())"
      ],
      "execution_count": 8,
      "outputs": [
        {
          "output_type": "stream",
          "text": [
            "Model: \"mobilenet_1.00_512\"\n",
            "_________________________________________________________________\n",
            "Layer (type)                 Output Shape              Param #   \n",
            "=================================================================\n",
            "input_1 (InputLayer)         [(None, 512, 512, 3)]     0         \n",
            "_________________________________________________________________\n",
            "conv1 (Conv2D)               (None, 256, 256, 32)      864       \n",
            "_________________________________________________________________\n",
            "conv1_bn (BatchNormalization (None, 256, 256, 32)      128       \n",
            "_________________________________________________________________\n",
            "conv1_relu (ReLU)            (None, 256, 256, 32)      0         \n",
            "_________________________________________________________________\n",
            "conv_dw_1 (DepthwiseConv2D)  (None, 256, 256, 32)      288       \n",
            "_________________________________________________________________\n",
            "conv_dw_1_bn (BatchNormaliza (None, 256, 256, 32)      128       \n",
            "_________________________________________________________________\n",
            "conv_dw_1_relu (ReLU)        (None, 256, 256, 32)      0         \n",
            "_________________________________________________________________\n",
            "conv_pw_1 (Conv2D)           (None, 256, 256, 64)      2048      \n",
            "_________________________________________________________________\n",
            "conv_pw_1_bn (BatchNormaliza (None, 256, 256, 64)      256       \n",
            "_________________________________________________________________\n",
            "conv_pw_1_relu (ReLU)        (None, 256, 256, 64)      0         \n",
            "_________________________________________________________________\n",
            "conv_pad_2 (ZeroPadding2D)   (None, 257, 257, 64)      0         \n",
            "_________________________________________________________________\n",
            "conv_dw_2 (DepthwiseConv2D)  (None, 128, 128, 64)      576       \n",
            "_________________________________________________________________\n",
            "conv_dw_2_bn (BatchNormaliza (None, 128, 128, 64)      256       \n",
            "_________________________________________________________________\n",
            "conv_dw_2_relu (ReLU)        (None, 128, 128, 64)      0         \n",
            "_________________________________________________________________\n",
            "conv_pw_2 (Conv2D)           (None, 128, 128, 128)     8192      \n",
            "_________________________________________________________________\n",
            "conv_pw_2_bn (BatchNormaliza (None, 128, 128, 128)     512       \n",
            "_________________________________________________________________\n",
            "conv_pw_2_relu (ReLU)        (None, 128, 128, 128)     0         \n",
            "_________________________________________________________________\n",
            "conv_dw_3 (DepthwiseConv2D)  (None, 128, 128, 128)     1152      \n",
            "_________________________________________________________________\n",
            "conv_dw_3_bn (BatchNormaliza (None, 128, 128, 128)     512       \n",
            "_________________________________________________________________\n",
            "conv_dw_3_relu (ReLU)        (None, 128, 128, 128)     0         \n",
            "_________________________________________________________________\n",
            "conv_pw_3 (Conv2D)           (None, 128, 128, 128)     16384     \n",
            "_________________________________________________________________\n",
            "conv_pw_3_bn (BatchNormaliza (None, 128, 128, 128)     512       \n",
            "_________________________________________________________________\n",
            "conv_pw_3_relu (ReLU)        (None, 128, 128, 128)     0         \n",
            "_________________________________________________________________\n",
            "conv_pad_4 (ZeroPadding2D)   (None, 129, 129, 128)     0         \n",
            "_________________________________________________________________\n",
            "conv_dw_4 (DepthwiseConv2D)  (None, 64, 64, 128)       1152      \n",
            "_________________________________________________________________\n",
            "conv_dw_4_bn (BatchNormaliza (None, 64, 64, 128)       512       \n",
            "_________________________________________________________________\n",
            "conv_dw_4_relu (ReLU)        (None, 64, 64, 128)       0         \n",
            "_________________________________________________________________\n",
            "conv_pw_4 (Conv2D)           (None, 64, 64, 256)       32768     \n",
            "_________________________________________________________________\n",
            "conv_pw_4_bn (BatchNormaliza (None, 64, 64, 256)       1024      \n",
            "_________________________________________________________________\n",
            "conv_pw_4_relu (ReLU)        (None, 64, 64, 256)       0         \n",
            "_________________________________________________________________\n",
            "conv_dw_5 (DepthwiseConv2D)  (None, 64, 64, 256)       2304      \n",
            "_________________________________________________________________\n",
            "conv_dw_5_bn (BatchNormaliza (None, 64, 64, 256)       1024      \n",
            "_________________________________________________________________\n",
            "conv_dw_5_relu (ReLU)        (None, 64, 64, 256)       0         \n",
            "_________________________________________________________________\n",
            "conv_pw_5 (Conv2D)           (None, 64, 64, 256)       65536     \n",
            "_________________________________________________________________\n",
            "conv_pw_5_bn (BatchNormaliza (None, 64, 64, 256)       1024      \n",
            "_________________________________________________________________\n",
            "conv_pw_5_relu (ReLU)        (None, 64, 64, 256)       0         \n",
            "_________________________________________________________________\n",
            "conv_pad_6 (ZeroPadding2D)   (None, 65, 65, 256)       0         \n",
            "_________________________________________________________________\n",
            "conv_dw_6 (DepthwiseConv2D)  (None, 32, 32, 256)       2304      \n",
            "_________________________________________________________________\n",
            "conv_dw_6_bn (BatchNormaliza (None, 32, 32, 256)       1024      \n",
            "_________________________________________________________________\n",
            "conv_dw_6_relu (ReLU)        (None, 32, 32, 256)       0         \n",
            "_________________________________________________________________\n",
            "conv_pw_6 (Conv2D)           (None, 32, 32, 512)       131072    \n",
            "_________________________________________________________________\n",
            "conv_pw_6_bn (BatchNormaliza (None, 32, 32, 512)       2048      \n",
            "_________________________________________________________________\n",
            "conv_pw_6_relu (ReLU)        (None, 32, 32, 512)       0         \n",
            "_________________________________________________________________\n",
            "conv_dw_7 (DepthwiseConv2D)  (None, 32, 32, 512)       4608      \n",
            "_________________________________________________________________\n",
            "conv_dw_7_bn (BatchNormaliza (None, 32, 32, 512)       2048      \n",
            "_________________________________________________________________\n",
            "conv_dw_7_relu (ReLU)        (None, 32, 32, 512)       0         \n",
            "_________________________________________________________________\n",
            "conv_pw_7 (Conv2D)           (None, 32, 32, 512)       262144    \n",
            "_________________________________________________________________\n",
            "conv_pw_7_bn (BatchNormaliza (None, 32, 32, 512)       2048      \n",
            "_________________________________________________________________\n",
            "conv_pw_7_relu (ReLU)        (None, 32, 32, 512)       0         \n",
            "_________________________________________________________________\n",
            "conv_dw_8 (DepthwiseConv2D)  (None, 32, 32, 512)       4608      \n",
            "_________________________________________________________________\n",
            "conv_dw_8_bn (BatchNormaliza (None, 32, 32, 512)       2048      \n",
            "_________________________________________________________________\n",
            "conv_dw_8_relu (ReLU)        (None, 32, 32, 512)       0         \n",
            "_________________________________________________________________\n",
            "conv_pw_8 (Conv2D)           (None, 32, 32, 512)       262144    \n",
            "_________________________________________________________________\n",
            "conv_pw_8_bn (BatchNormaliza (None, 32, 32, 512)       2048      \n",
            "_________________________________________________________________\n",
            "conv_pw_8_relu (ReLU)        (None, 32, 32, 512)       0         \n",
            "_________________________________________________________________\n",
            "conv_dw_9 (DepthwiseConv2D)  (None, 32, 32, 512)       4608      \n",
            "_________________________________________________________________\n",
            "conv_dw_9_bn (BatchNormaliza (None, 32, 32, 512)       2048      \n",
            "_________________________________________________________________\n",
            "conv_dw_9_relu (ReLU)        (None, 32, 32, 512)       0         \n",
            "_________________________________________________________________\n",
            "conv_pw_9 (Conv2D)           (None, 32, 32, 512)       262144    \n",
            "_________________________________________________________________\n",
            "conv_pw_9_bn (BatchNormaliza (None, 32, 32, 512)       2048      \n",
            "_________________________________________________________________\n",
            "conv_pw_9_relu (ReLU)        (None, 32, 32, 512)       0         \n",
            "_________________________________________________________________\n",
            "conv_dw_10 (DepthwiseConv2D) (None, 32, 32, 512)       4608      \n",
            "_________________________________________________________________\n",
            "conv_dw_10_bn (BatchNormaliz (None, 32, 32, 512)       2048      \n",
            "_________________________________________________________________\n",
            "conv_dw_10_relu (ReLU)       (None, 32, 32, 512)       0         \n",
            "_________________________________________________________________\n",
            "conv_pw_10 (Conv2D)          (None, 32, 32, 512)       262144    \n",
            "_________________________________________________________________\n",
            "conv_pw_10_bn (BatchNormaliz (None, 32, 32, 512)       2048      \n",
            "_________________________________________________________________\n",
            "conv_pw_10_relu (ReLU)       (None, 32, 32, 512)       0         \n",
            "_________________________________________________________________\n",
            "conv_dw_11 (DepthwiseConv2D) (None, 32, 32, 512)       4608      \n",
            "_________________________________________________________________\n",
            "conv_dw_11_bn (BatchNormaliz (None, 32, 32, 512)       2048      \n",
            "_________________________________________________________________\n",
            "conv_dw_11_relu (ReLU)       (None, 32, 32, 512)       0         \n",
            "_________________________________________________________________\n",
            "conv_pw_11 (Conv2D)          (None, 32, 32, 512)       262144    \n",
            "_________________________________________________________________\n",
            "conv_pw_11_bn (BatchNormaliz (None, 32, 32, 512)       2048      \n",
            "_________________________________________________________________\n",
            "conv_pw_11_relu (ReLU)       (None, 32, 32, 512)       0         \n",
            "_________________________________________________________________\n",
            "conv_pad_12 (ZeroPadding2D)  (None, 33, 33, 512)       0         \n",
            "_________________________________________________________________\n",
            "conv_dw_12 (DepthwiseConv2D) (None, 16, 16, 512)       4608      \n",
            "_________________________________________________________________\n",
            "conv_dw_12_bn (BatchNormaliz (None, 16, 16, 512)       2048      \n",
            "_________________________________________________________________\n",
            "conv_dw_12_relu (ReLU)       (None, 16, 16, 512)       0         \n",
            "_________________________________________________________________\n",
            "conv_pw_12 (Conv2D)          (None, 16, 16, 1024)      524288    \n",
            "_________________________________________________________________\n",
            "conv_pw_12_bn (BatchNormaliz (None, 16, 16, 1024)      4096      \n",
            "_________________________________________________________________\n",
            "conv_pw_12_relu (ReLU)       (None, 16, 16, 1024)      0         \n",
            "_________________________________________________________________\n",
            "conv_dw_13 (DepthwiseConv2D) (None, 16, 16, 1024)      9216      \n",
            "_________________________________________________________________\n",
            "conv_dw_13_bn (BatchNormaliz (None, 16, 16, 1024)      4096      \n",
            "_________________________________________________________________\n",
            "conv_dw_13_relu (ReLU)       (None, 16, 16, 1024)      0         \n",
            "_________________________________________________________________\n",
            "conv_pw_13 (Conv2D)          (None, 16, 16, 1024)      1048576   \n",
            "_________________________________________________________________\n",
            "conv_pw_13_bn (BatchNormaliz (None, 16, 16, 1024)      4096      \n",
            "_________________________________________________________________\n",
            "conv_pw_13_relu (ReLU)       (None, 16, 16, 1024)      0         \n",
            "_________________________________________________________________\n",
            "global_average_pooling2d (Gl (None, 1024)              0         \n",
            "_________________________________________________________________\n",
            "reshape_1 (Reshape)          (None, 1, 1, 1024)        0         \n",
            "_________________________________________________________________\n",
            "dropout (Dropout)            (None, 1, 1, 1024)        0         \n",
            "_________________________________________________________________\n",
            "conv_preds (Conv2D)          (None, 1, 1, 5)           5125      \n",
            "_________________________________________________________________\n",
            "reshape_2 (Reshape)          (None, 5)                 0         \n",
            "_________________________________________________________________\n",
            "predictions (Activation)     (None, 5)                 0         \n",
            "=================================================================\n",
            "Total params: 3,233,989\n",
            "Trainable params: 3,212,101\n",
            "Non-trainable params: 21,888\n",
            "_________________________________________________________________\n",
            "None\n"
          ],
          "name": "stdout"
        },
        {
          "output_type": "stream",
          "text": [
            "/usr/local/lib/python3.7/dist-packages/tensorflow/python/keras/optimizer_v2/optimizer_v2.py:375: UserWarning: The `lr` argument is deprecated, use `learning_rate` instead.\n",
            "  \"The `lr` argument is deprecated, use `learning_rate` instead.\")\n"
          ],
          "name": "stderr"
        }
      ]
    },
    {
      "cell_type": "code",
      "metadata": {
        "id": "baMP4oTvWhTh",
        "colab": {
          "base_uri": "https://localhost:8080/"
        },
        "outputId": "34e976fb-45c1-4409-f44b-5ac23e2329e7"
      },
      "source": [
        "datagen = ImageDataGenerator(\n",
        "        rotation_range=40,\n",
        "        width_shift_range=0.2,\n",
        "        height_shift_range=0.2,\n",
        "        rescale=1./255,\n",
        "        shear_range=0.2,\n",
        "        zoom_range=0.2,\n",
        "        horizontal_flip=True,\n",
        "        fill_mode='nearest',validation_split=0.3,)\n",
        "validation_generator=datagen.flow_from_directory(INPUT_DIR,\n",
        "                            target_size=(size,size),\n",
        "                            color_mode='rgb',\n",
        "                            class_mode='categorical',\n",
        "                            batch_size=batchsize,\n",
        "                            seed=1996,\n",
        "                            subset='validation')\n",
        "train_generator=datagen.flow_from_directory(INPUT_DIR,\n",
        "                            target_size=(size,size),\n",
        "                            color_mode='rgb',\n",
        "                            class_mode='categorical',\n",
        "                            batch_size=batchsize,\n",
        "                            seed=1996,\n",
        "                            subset='training')"
      ],
      "execution_count": 9,
      "outputs": [
        {
          "output_type": "stream",
          "text": [
            "Found 1026 images belonging to 5 classes.\n",
            "Found 2403 images belonging to 5 classes.\n"
          ],
          "name": "stdout"
        }
      ]
    },
    {
      "cell_type": "code",
      "metadata": {
        "colab": {
          "base_uri": "https://localhost:8080/",
          "height": 626
        },
        "id": "Ht4PnIxfm5-x",
        "outputId": "2732fda8-c310-4f78-da9e-04bfea7d9b08"
      },
      "source": [
        "from sklearn.utils import class_weight \n",
        "class_weights = class_weight.compute_class_weight(\n",
        "           'balanced',\n",
        "            np.unique(train_generator.classes), \n",
        "            train_generator.classes)\n",
        "class_weights= dict(enumerate(class_weights))\n",
        "model.fit_generator(train_generator,\n",
        "    steps_per_epoch = train_generator.samples // batchsize,\n",
        "    validation_data = validation_generator, \n",
        "    validation_steps = validation_generator.samples // batchsize,\n",
        "    epochs = EPOCHS,\n",
        "    class_weight=class_weights)"
      ],
      "execution_count": 10,
      "outputs": [
        {
          "output_type": "stream",
          "text": [
            "/usr/local/lib/python3.7/dist-packages/tensorflow/python/keras/engine/training.py:1940: UserWarning: `Model.fit_generator` is deprecated and will be removed in a future version. Please use `Model.fit`, which supports generators.\n",
            "  warnings.warn('`Model.fit_generator` is deprecated and '\n"
          ],
          "name": "stderr"
        },
        {
          "output_type": "stream",
          "text": [
            "WARNING:tensorflow:From /usr/local/lib/python3.7/dist-packages/tensorflow/python/ops/array_ops.py:5049: calling gather (from tensorflow.python.ops.array_ops) with validate_indices is deprecated and will be removed in a future version.\n",
            "Instructions for updating:\n",
            "The `validate_indices` argument has no effect. Indices are always validated on CPU and never validated on GPU.\n",
            "Epoch 1/500\n"
          ],
          "name": "stdout"
        },
        {
          "output_type": "error",
          "ename": "ResourceExhaustedError",
          "evalue": "ignored",
          "traceback": [
            "\u001b[0;31m---------------------------------------------------------------------------\u001b[0m",
            "\u001b[0;31mResourceExhaustedError\u001b[0m                    Traceback (most recent call last)",
            "\u001b[0;32m<ipython-input-10-d74573a23589>\u001b[0m in \u001b[0;36m<module>\u001b[0;34m()\u001b[0m\n\u001b[1;32m     10\u001b[0m     \u001b[0mvalidation_steps\u001b[0m \u001b[0;34m=\u001b[0m \u001b[0mvalidation_generator\u001b[0m\u001b[0;34m.\u001b[0m\u001b[0msamples\u001b[0m \u001b[0;34m//\u001b[0m \u001b[0mbatchsize\u001b[0m\u001b[0;34m,\u001b[0m\u001b[0;34m\u001b[0m\u001b[0;34m\u001b[0m\u001b[0m\n\u001b[1;32m     11\u001b[0m     \u001b[0mepochs\u001b[0m \u001b[0;34m=\u001b[0m \u001b[0mEPOCHS\u001b[0m\u001b[0;34m,\u001b[0m\u001b[0;34m\u001b[0m\u001b[0;34m\u001b[0m\u001b[0m\n\u001b[0;32m---> 12\u001b[0;31m     class_weight=class_weights)\n\u001b[0m",
            "\u001b[0;32m/usr/local/lib/python3.7/dist-packages/tensorflow/python/keras/engine/training.py\u001b[0m in \u001b[0;36mfit_generator\u001b[0;34m(self, generator, steps_per_epoch, epochs, verbose, callbacks, validation_data, validation_steps, validation_freq, class_weight, max_queue_size, workers, use_multiprocessing, shuffle, initial_epoch)\u001b[0m\n\u001b[1;32m   1955\u001b[0m         \u001b[0muse_multiprocessing\u001b[0m\u001b[0;34m=\u001b[0m\u001b[0muse_multiprocessing\u001b[0m\u001b[0;34m,\u001b[0m\u001b[0;34m\u001b[0m\u001b[0;34m\u001b[0m\u001b[0m\n\u001b[1;32m   1956\u001b[0m         \u001b[0mshuffle\u001b[0m\u001b[0;34m=\u001b[0m\u001b[0mshuffle\u001b[0m\u001b[0;34m,\u001b[0m\u001b[0;34m\u001b[0m\u001b[0;34m\u001b[0m\u001b[0m\n\u001b[0;32m-> 1957\u001b[0;31m         initial_epoch=initial_epoch)\n\u001b[0m\u001b[1;32m   1958\u001b[0m \u001b[0;34m\u001b[0m\u001b[0m\n\u001b[1;32m   1959\u001b[0m   def evaluate_generator(self,\n",
            "\u001b[0;32m/usr/local/lib/python3.7/dist-packages/tensorflow/python/keras/engine/training.py\u001b[0m in \u001b[0;36mfit\u001b[0;34m(self, x, y, batch_size, epochs, verbose, callbacks, validation_split, validation_data, shuffle, class_weight, sample_weight, initial_epoch, steps_per_epoch, validation_steps, validation_batch_size, validation_freq, max_queue_size, workers, use_multiprocessing)\u001b[0m\n\u001b[1;32m   1181\u001b[0m                 _r=1):\n\u001b[1;32m   1182\u001b[0m               \u001b[0mcallbacks\u001b[0m\u001b[0;34m.\u001b[0m\u001b[0mon_train_batch_begin\u001b[0m\u001b[0;34m(\u001b[0m\u001b[0mstep\u001b[0m\u001b[0;34m)\u001b[0m\u001b[0;34m\u001b[0m\u001b[0;34m\u001b[0m\u001b[0m\n\u001b[0;32m-> 1183\u001b[0;31m               \u001b[0mtmp_logs\u001b[0m \u001b[0;34m=\u001b[0m \u001b[0mself\u001b[0m\u001b[0;34m.\u001b[0m\u001b[0mtrain_function\u001b[0m\u001b[0;34m(\u001b[0m\u001b[0miterator\u001b[0m\u001b[0;34m)\u001b[0m\u001b[0;34m\u001b[0m\u001b[0;34m\u001b[0m\u001b[0m\n\u001b[0m\u001b[1;32m   1184\u001b[0m               \u001b[0;32mif\u001b[0m \u001b[0mdata_handler\u001b[0m\u001b[0;34m.\u001b[0m\u001b[0mshould_sync\u001b[0m\u001b[0;34m:\u001b[0m\u001b[0;34m\u001b[0m\u001b[0;34m\u001b[0m\u001b[0m\n\u001b[1;32m   1185\u001b[0m                 \u001b[0mcontext\u001b[0m\u001b[0;34m.\u001b[0m\u001b[0masync_wait\u001b[0m\u001b[0;34m(\u001b[0m\u001b[0;34m)\u001b[0m\u001b[0;34m\u001b[0m\u001b[0;34m\u001b[0m\u001b[0m\n",
            "\u001b[0;32m/usr/local/lib/python3.7/dist-packages/tensorflow/python/eager/def_function.py\u001b[0m in \u001b[0;36m__call__\u001b[0;34m(self, *args, **kwds)\u001b[0m\n\u001b[1;32m    887\u001b[0m \u001b[0;34m\u001b[0m\u001b[0m\n\u001b[1;32m    888\u001b[0m       \u001b[0;32mwith\u001b[0m \u001b[0mOptionalXlaContext\u001b[0m\u001b[0;34m(\u001b[0m\u001b[0mself\u001b[0m\u001b[0;34m.\u001b[0m\u001b[0m_jit_compile\u001b[0m\u001b[0;34m)\u001b[0m\u001b[0;34m:\u001b[0m\u001b[0;34m\u001b[0m\u001b[0;34m\u001b[0m\u001b[0m\n\u001b[0;32m--> 889\u001b[0;31m         \u001b[0mresult\u001b[0m \u001b[0;34m=\u001b[0m \u001b[0mself\u001b[0m\u001b[0;34m.\u001b[0m\u001b[0m_call\u001b[0m\u001b[0;34m(\u001b[0m\u001b[0;34m*\u001b[0m\u001b[0margs\u001b[0m\u001b[0;34m,\u001b[0m \u001b[0;34m**\u001b[0m\u001b[0mkwds\u001b[0m\u001b[0;34m)\u001b[0m\u001b[0;34m\u001b[0m\u001b[0;34m\u001b[0m\u001b[0m\n\u001b[0m\u001b[1;32m    890\u001b[0m \u001b[0;34m\u001b[0m\u001b[0m\n\u001b[1;32m    891\u001b[0m       \u001b[0mnew_tracing_count\u001b[0m \u001b[0;34m=\u001b[0m \u001b[0mself\u001b[0m\u001b[0;34m.\u001b[0m\u001b[0mexperimental_get_tracing_count\u001b[0m\u001b[0;34m(\u001b[0m\u001b[0;34m)\u001b[0m\u001b[0;34m\u001b[0m\u001b[0;34m\u001b[0m\u001b[0m\n",
            "\u001b[0;32m/usr/local/lib/python3.7/dist-packages/tensorflow/python/eager/def_function.py\u001b[0m in \u001b[0;36m_call\u001b[0;34m(self, *args, **kwds)\u001b[0m\n\u001b[1;32m    948\u001b[0m         \u001b[0;31m# Lifting succeeded, so variables are initialized and we can run the\u001b[0m\u001b[0;34m\u001b[0m\u001b[0;34m\u001b[0m\u001b[0;34m\u001b[0m\u001b[0m\n\u001b[1;32m    949\u001b[0m         \u001b[0;31m# stateless function.\u001b[0m\u001b[0;34m\u001b[0m\u001b[0;34m\u001b[0m\u001b[0;34m\u001b[0m\u001b[0m\n\u001b[0;32m--> 950\u001b[0;31m         \u001b[0;32mreturn\u001b[0m \u001b[0mself\u001b[0m\u001b[0;34m.\u001b[0m\u001b[0m_stateless_fn\u001b[0m\u001b[0;34m(\u001b[0m\u001b[0;34m*\u001b[0m\u001b[0margs\u001b[0m\u001b[0;34m,\u001b[0m \u001b[0;34m**\u001b[0m\u001b[0mkwds\u001b[0m\u001b[0;34m)\u001b[0m\u001b[0;34m\u001b[0m\u001b[0;34m\u001b[0m\u001b[0m\n\u001b[0m\u001b[1;32m    951\u001b[0m     \u001b[0;32melse\u001b[0m\u001b[0;34m:\u001b[0m\u001b[0;34m\u001b[0m\u001b[0;34m\u001b[0m\u001b[0m\n\u001b[1;32m    952\u001b[0m       \u001b[0m_\u001b[0m\u001b[0;34m,\u001b[0m \u001b[0m_\u001b[0m\u001b[0;34m,\u001b[0m \u001b[0m_\u001b[0m\u001b[0;34m,\u001b[0m \u001b[0mfiltered_flat_args\u001b[0m \u001b[0;34m=\u001b[0m\u001b[0;31m \u001b[0m\u001b[0;31m\\\u001b[0m\u001b[0;34m\u001b[0m\u001b[0;34m\u001b[0m\u001b[0m\n",
            "\u001b[0;32m/usr/local/lib/python3.7/dist-packages/tensorflow/python/eager/function.py\u001b[0m in \u001b[0;36m__call__\u001b[0;34m(self, *args, **kwargs)\u001b[0m\n\u001b[1;32m   3022\u001b[0m        filtered_flat_args) = self._maybe_define_function(args, kwargs)\n\u001b[1;32m   3023\u001b[0m     return graph_function._call_flat(\n\u001b[0;32m-> 3024\u001b[0;31m         filtered_flat_args, captured_inputs=graph_function.captured_inputs)  # pylint: disable=protected-access\n\u001b[0m\u001b[1;32m   3025\u001b[0m \u001b[0;34m\u001b[0m\u001b[0m\n\u001b[1;32m   3026\u001b[0m   \u001b[0;34m@\u001b[0m\u001b[0mproperty\u001b[0m\u001b[0;34m\u001b[0m\u001b[0;34m\u001b[0m\u001b[0m\n",
            "\u001b[0;32m/usr/local/lib/python3.7/dist-packages/tensorflow/python/eager/function.py\u001b[0m in \u001b[0;36m_call_flat\u001b[0;34m(self, args, captured_inputs, cancellation_manager)\u001b[0m\n\u001b[1;32m   1959\u001b[0m       \u001b[0;31m# No tape is watching; skip to running the function.\u001b[0m\u001b[0;34m\u001b[0m\u001b[0;34m\u001b[0m\u001b[0;34m\u001b[0m\u001b[0m\n\u001b[1;32m   1960\u001b[0m       return self._build_call_outputs(self._inference_function.call(\n\u001b[0;32m-> 1961\u001b[0;31m           ctx, args, cancellation_manager=cancellation_manager))\n\u001b[0m\u001b[1;32m   1962\u001b[0m     forward_backward = self._select_forward_and_backward_functions(\n\u001b[1;32m   1963\u001b[0m         \u001b[0margs\u001b[0m\u001b[0;34m,\u001b[0m\u001b[0;34m\u001b[0m\u001b[0;34m\u001b[0m\u001b[0m\n",
            "\u001b[0;32m/usr/local/lib/python3.7/dist-packages/tensorflow/python/eager/function.py\u001b[0m in \u001b[0;36mcall\u001b[0;34m(self, ctx, args, cancellation_manager)\u001b[0m\n\u001b[1;32m    594\u001b[0m               \u001b[0minputs\u001b[0m\u001b[0;34m=\u001b[0m\u001b[0margs\u001b[0m\u001b[0;34m,\u001b[0m\u001b[0;34m\u001b[0m\u001b[0;34m\u001b[0m\u001b[0m\n\u001b[1;32m    595\u001b[0m               \u001b[0mattrs\u001b[0m\u001b[0;34m=\u001b[0m\u001b[0mattrs\u001b[0m\u001b[0;34m,\u001b[0m\u001b[0;34m\u001b[0m\u001b[0;34m\u001b[0m\u001b[0m\n\u001b[0;32m--> 596\u001b[0;31m               ctx=ctx)\n\u001b[0m\u001b[1;32m    597\u001b[0m         \u001b[0;32melse\u001b[0m\u001b[0;34m:\u001b[0m\u001b[0;34m\u001b[0m\u001b[0;34m\u001b[0m\u001b[0m\n\u001b[1;32m    598\u001b[0m           outputs = execute.execute_with_cancellation(\n",
            "\u001b[0;32m/usr/local/lib/python3.7/dist-packages/tensorflow/python/eager/execute.py\u001b[0m in \u001b[0;36mquick_execute\u001b[0;34m(op_name, num_outputs, inputs, attrs, ctx, name)\u001b[0m\n\u001b[1;32m     58\u001b[0m     \u001b[0mctx\u001b[0m\u001b[0;34m.\u001b[0m\u001b[0mensure_initialized\u001b[0m\u001b[0;34m(\u001b[0m\u001b[0;34m)\u001b[0m\u001b[0;34m\u001b[0m\u001b[0;34m\u001b[0m\u001b[0m\n\u001b[1;32m     59\u001b[0m     tensors = pywrap_tfe.TFE_Py_Execute(ctx._handle, device_name, op_name,\n\u001b[0;32m---> 60\u001b[0;31m                                         inputs, attrs, num_outputs)\n\u001b[0m\u001b[1;32m     61\u001b[0m   \u001b[0;32mexcept\u001b[0m \u001b[0mcore\u001b[0m\u001b[0;34m.\u001b[0m\u001b[0m_NotOkStatusException\u001b[0m \u001b[0;32mas\u001b[0m \u001b[0me\u001b[0m\u001b[0;34m:\u001b[0m\u001b[0;34m\u001b[0m\u001b[0;34m\u001b[0m\u001b[0m\n\u001b[1;32m     62\u001b[0m     \u001b[0;32mif\u001b[0m \u001b[0mname\u001b[0m \u001b[0;32mis\u001b[0m \u001b[0;32mnot\u001b[0m \u001b[0;32mNone\u001b[0m\u001b[0;34m:\u001b[0m\u001b[0;34m\u001b[0m\u001b[0;34m\u001b[0m\u001b[0m\n",
            "\u001b[0;31mResourceExhaustedError\u001b[0m:  OOM when allocating tensor with shape[50,512,32,32] and type float on /job:localhost/replica:0/task:0/device:GPU:0 by allocator GPU_0_bfc\n\t [[node mobilenet_1.00_512/conv_pw_9/Conv2D (defined at <ipython-input-10-d74573a23589>:12) ]]\nHint: If you want to see a list of allocated tensors when OOM happens, add report_tensor_allocations_upon_oom to RunOptions for current allocation info.\n [Op:__inference_train_function_5450]\n\nFunction call stack:\ntrain_function\n"
          ]
        }
      ]
    },
    {
      "cell_type": "code",
      "metadata": {
        "colab": {
          "base_uri": "https://localhost:8080/"
        },
        "id": "4Q0FX3cZyAU8",
        "outputId": "c3ce7c51-70be-48c5-ff9d-24828ff7794c"
      },
      "source": [
        "model.save('my_model_color')"
      ],
      "execution_count": 17,
      "outputs": [
        {
          "output_type": "stream",
          "text": [
            "INFO:tensorflow:Assets written to: my_model_color/assets\n"
          ],
          "name": "stdout"
        }
      ]
    },
    {
      "cell_type": "markdown",
      "metadata": {
        "id": "n6VZNEKZcL6d"
      },
      "source": [
        "#model for grayscale/edge images"
      ]
    },
    {
      "cell_type": "code",
      "metadata": {
        "id": "3NuABXeZcAaE",
        "colab": {
          "base_uri": "https://localhost:8080/"
        },
        "outputId": "11c08384-7fe5-4dab-c926-f74bef566a32"
      },
      "source": [
        "model = MobileNet(input_shape=(size, size, 1), alpha=1., weights=None, classes=5)\n",
        "model.compile(optimizer=Adam(lr=0.002), loss='categorical_crossentropy',\n",
        "              metrics=['accuracy'])\n",
        "print(model.summary())"
      ],
      "execution_count": 5,
      "outputs": [
        {
          "output_type": "stream",
          "text": [
            "Model: \"mobilenet_1.00_512\"\n",
            "_________________________________________________________________\n",
            "Layer (type)                 Output Shape              Param #   \n",
            "=================================================================\n",
            "input_1 (InputLayer)         [(None, 512, 512, 1)]     0         \n",
            "_________________________________________________________________\n",
            "conv1 (Conv2D)               (None, 256, 256, 32)      288       \n",
            "_________________________________________________________________\n",
            "conv1_bn (BatchNormalization (None, 256, 256, 32)      128       \n",
            "_________________________________________________________________\n",
            "conv1_relu (ReLU)            (None, 256, 256, 32)      0         \n",
            "_________________________________________________________________\n",
            "conv_dw_1 (DepthwiseConv2D)  (None, 256, 256, 32)      288       \n",
            "_________________________________________________________________\n",
            "conv_dw_1_bn (BatchNormaliza (None, 256, 256, 32)      128       \n",
            "_________________________________________________________________\n",
            "conv_dw_1_relu (ReLU)        (None, 256, 256, 32)      0         \n",
            "_________________________________________________________________\n",
            "conv_pw_1 (Conv2D)           (None, 256, 256, 64)      2048      \n",
            "_________________________________________________________________\n",
            "conv_pw_1_bn (BatchNormaliza (None, 256, 256, 64)      256       \n",
            "_________________________________________________________________\n",
            "conv_pw_1_relu (ReLU)        (None, 256, 256, 64)      0         \n",
            "_________________________________________________________________\n",
            "conv_pad_2 (ZeroPadding2D)   (None, 257, 257, 64)      0         \n",
            "_________________________________________________________________\n",
            "conv_dw_2 (DepthwiseConv2D)  (None, 128, 128, 64)      576       \n",
            "_________________________________________________________________\n",
            "conv_dw_2_bn (BatchNormaliza (None, 128, 128, 64)      256       \n",
            "_________________________________________________________________\n",
            "conv_dw_2_relu (ReLU)        (None, 128, 128, 64)      0         \n",
            "_________________________________________________________________\n",
            "conv_pw_2 (Conv2D)           (None, 128, 128, 128)     8192      \n",
            "_________________________________________________________________\n",
            "conv_pw_2_bn (BatchNormaliza (None, 128, 128, 128)     512       \n",
            "_________________________________________________________________\n",
            "conv_pw_2_relu (ReLU)        (None, 128, 128, 128)     0         \n",
            "_________________________________________________________________\n",
            "conv_dw_3 (DepthwiseConv2D)  (None, 128, 128, 128)     1152      \n",
            "_________________________________________________________________\n",
            "conv_dw_3_bn (BatchNormaliza (None, 128, 128, 128)     512       \n",
            "_________________________________________________________________\n",
            "conv_dw_3_relu (ReLU)        (None, 128, 128, 128)     0         \n",
            "_________________________________________________________________\n",
            "conv_pw_3 (Conv2D)           (None, 128, 128, 128)     16384     \n",
            "_________________________________________________________________\n",
            "conv_pw_3_bn (BatchNormaliza (None, 128, 128, 128)     512       \n",
            "_________________________________________________________________\n",
            "conv_pw_3_relu (ReLU)        (None, 128, 128, 128)     0         \n",
            "_________________________________________________________________\n",
            "conv_pad_4 (ZeroPadding2D)   (None, 129, 129, 128)     0         \n",
            "_________________________________________________________________\n",
            "conv_dw_4 (DepthwiseConv2D)  (None, 64, 64, 128)       1152      \n",
            "_________________________________________________________________\n",
            "conv_dw_4_bn (BatchNormaliza (None, 64, 64, 128)       512       \n",
            "_________________________________________________________________\n",
            "conv_dw_4_relu (ReLU)        (None, 64, 64, 128)       0         \n",
            "_________________________________________________________________\n",
            "conv_pw_4 (Conv2D)           (None, 64, 64, 256)       32768     \n",
            "_________________________________________________________________\n",
            "conv_pw_4_bn (BatchNormaliza (None, 64, 64, 256)       1024      \n",
            "_________________________________________________________________\n",
            "conv_pw_4_relu (ReLU)        (None, 64, 64, 256)       0         \n",
            "_________________________________________________________________\n",
            "conv_dw_5 (DepthwiseConv2D)  (None, 64, 64, 256)       2304      \n",
            "_________________________________________________________________\n",
            "conv_dw_5_bn (BatchNormaliza (None, 64, 64, 256)       1024      \n",
            "_________________________________________________________________\n",
            "conv_dw_5_relu (ReLU)        (None, 64, 64, 256)       0         \n",
            "_________________________________________________________________\n",
            "conv_pw_5 (Conv2D)           (None, 64, 64, 256)       65536     \n",
            "_________________________________________________________________\n",
            "conv_pw_5_bn (BatchNormaliza (None, 64, 64, 256)       1024      \n",
            "_________________________________________________________________\n",
            "conv_pw_5_relu (ReLU)        (None, 64, 64, 256)       0         \n",
            "_________________________________________________________________\n",
            "conv_pad_6 (ZeroPadding2D)   (None, 65, 65, 256)       0         \n",
            "_________________________________________________________________\n",
            "conv_dw_6 (DepthwiseConv2D)  (None, 32, 32, 256)       2304      \n",
            "_________________________________________________________________\n",
            "conv_dw_6_bn (BatchNormaliza (None, 32, 32, 256)       1024      \n",
            "_________________________________________________________________\n",
            "conv_dw_6_relu (ReLU)        (None, 32, 32, 256)       0         \n",
            "_________________________________________________________________\n",
            "conv_pw_6 (Conv2D)           (None, 32, 32, 512)       131072    \n",
            "_________________________________________________________________\n",
            "conv_pw_6_bn (BatchNormaliza (None, 32, 32, 512)       2048      \n",
            "_________________________________________________________________\n",
            "conv_pw_6_relu (ReLU)        (None, 32, 32, 512)       0         \n",
            "_________________________________________________________________\n",
            "conv_dw_7 (DepthwiseConv2D)  (None, 32, 32, 512)       4608      \n",
            "_________________________________________________________________\n",
            "conv_dw_7_bn (BatchNormaliza (None, 32, 32, 512)       2048      \n",
            "_________________________________________________________________\n",
            "conv_dw_7_relu (ReLU)        (None, 32, 32, 512)       0         \n",
            "_________________________________________________________________\n",
            "conv_pw_7 (Conv2D)           (None, 32, 32, 512)       262144    \n",
            "_________________________________________________________________\n",
            "conv_pw_7_bn (BatchNormaliza (None, 32, 32, 512)       2048      \n",
            "_________________________________________________________________\n",
            "conv_pw_7_relu (ReLU)        (None, 32, 32, 512)       0         \n",
            "_________________________________________________________________\n",
            "conv_dw_8 (DepthwiseConv2D)  (None, 32, 32, 512)       4608      \n",
            "_________________________________________________________________\n",
            "conv_dw_8_bn (BatchNormaliza (None, 32, 32, 512)       2048      \n",
            "_________________________________________________________________\n",
            "conv_dw_8_relu (ReLU)        (None, 32, 32, 512)       0         \n",
            "_________________________________________________________________\n",
            "conv_pw_8 (Conv2D)           (None, 32, 32, 512)       262144    \n",
            "_________________________________________________________________\n",
            "conv_pw_8_bn (BatchNormaliza (None, 32, 32, 512)       2048      \n",
            "_________________________________________________________________\n",
            "conv_pw_8_relu (ReLU)        (None, 32, 32, 512)       0         \n",
            "_________________________________________________________________\n",
            "conv_dw_9 (DepthwiseConv2D)  (None, 32, 32, 512)       4608      \n",
            "_________________________________________________________________\n",
            "conv_dw_9_bn (BatchNormaliza (None, 32, 32, 512)       2048      \n",
            "_________________________________________________________________\n",
            "conv_dw_9_relu (ReLU)        (None, 32, 32, 512)       0         \n",
            "_________________________________________________________________\n",
            "conv_pw_9 (Conv2D)           (None, 32, 32, 512)       262144    \n",
            "_________________________________________________________________\n",
            "conv_pw_9_bn (BatchNormaliza (None, 32, 32, 512)       2048      \n",
            "_________________________________________________________________\n",
            "conv_pw_9_relu (ReLU)        (None, 32, 32, 512)       0         \n",
            "_________________________________________________________________\n",
            "conv_dw_10 (DepthwiseConv2D) (None, 32, 32, 512)       4608      \n",
            "_________________________________________________________________\n",
            "conv_dw_10_bn (BatchNormaliz (None, 32, 32, 512)       2048      \n",
            "_________________________________________________________________\n",
            "conv_dw_10_relu (ReLU)       (None, 32, 32, 512)       0         \n",
            "_________________________________________________________________\n",
            "conv_pw_10 (Conv2D)          (None, 32, 32, 512)       262144    \n",
            "_________________________________________________________________\n",
            "conv_pw_10_bn (BatchNormaliz (None, 32, 32, 512)       2048      \n",
            "_________________________________________________________________\n",
            "conv_pw_10_relu (ReLU)       (None, 32, 32, 512)       0         \n",
            "_________________________________________________________________\n",
            "conv_dw_11 (DepthwiseConv2D) (None, 32, 32, 512)       4608      \n",
            "_________________________________________________________________\n",
            "conv_dw_11_bn (BatchNormaliz (None, 32, 32, 512)       2048      \n",
            "_________________________________________________________________\n",
            "conv_dw_11_relu (ReLU)       (None, 32, 32, 512)       0         \n",
            "_________________________________________________________________\n",
            "conv_pw_11 (Conv2D)          (None, 32, 32, 512)       262144    \n",
            "_________________________________________________________________\n",
            "conv_pw_11_bn (BatchNormaliz (None, 32, 32, 512)       2048      \n",
            "_________________________________________________________________\n",
            "conv_pw_11_relu (ReLU)       (None, 32, 32, 512)       0         \n",
            "_________________________________________________________________\n",
            "conv_pad_12 (ZeroPadding2D)  (None, 33, 33, 512)       0         \n",
            "_________________________________________________________________\n",
            "conv_dw_12 (DepthwiseConv2D) (None, 16, 16, 512)       4608      \n",
            "_________________________________________________________________\n",
            "conv_dw_12_bn (BatchNormaliz (None, 16, 16, 512)       2048      \n",
            "_________________________________________________________________\n",
            "conv_dw_12_relu (ReLU)       (None, 16, 16, 512)       0         \n",
            "_________________________________________________________________\n",
            "conv_pw_12 (Conv2D)          (None, 16, 16, 1024)      524288    \n",
            "_________________________________________________________________\n",
            "conv_pw_12_bn (BatchNormaliz (None, 16, 16, 1024)      4096      \n",
            "_________________________________________________________________\n",
            "conv_pw_12_relu (ReLU)       (None, 16, 16, 1024)      0         \n",
            "_________________________________________________________________\n",
            "conv_dw_13 (DepthwiseConv2D) (None, 16, 16, 1024)      9216      \n",
            "_________________________________________________________________\n",
            "conv_dw_13_bn (BatchNormaliz (None, 16, 16, 1024)      4096      \n",
            "_________________________________________________________________\n",
            "conv_dw_13_relu (ReLU)       (None, 16, 16, 1024)      0         \n",
            "_________________________________________________________________\n",
            "conv_pw_13 (Conv2D)          (None, 16, 16, 1024)      1048576   \n",
            "_________________________________________________________________\n",
            "conv_pw_13_bn (BatchNormaliz (None, 16, 16, 1024)      4096      \n",
            "_________________________________________________________________\n",
            "conv_pw_13_relu (ReLU)       (None, 16, 16, 1024)      0         \n",
            "_________________________________________________________________\n",
            "global_average_pooling2d (Gl (None, 1024)              0         \n",
            "_________________________________________________________________\n",
            "reshape_1 (Reshape)          (None, 1, 1, 1024)        0         \n",
            "_________________________________________________________________\n",
            "dropout (Dropout)            (None, 1, 1, 1024)        0         \n",
            "_________________________________________________________________\n",
            "conv_preds (Conv2D)          (None, 1, 1, 5)           5125      \n",
            "_________________________________________________________________\n",
            "reshape_2 (Reshape)          (None, 5)                 0         \n",
            "_________________________________________________________________\n",
            "predictions (Activation)     (None, 5)                 0         \n",
            "=================================================================\n",
            "Total params: 3,233,413\n",
            "Trainable params: 3,211,525\n",
            "Non-trainable params: 21,888\n",
            "_________________________________________________________________\n",
            "None\n"
          ],
          "name": "stdout"
        },
        {
          "output_type": "stream",
          "text": [
            "/usr/local/lib/python3.7/dist-packages/tensorflow/python/keras/optimizer_v2/optimizer_v2.py:375: UserWarning: The `lr` argument is deprecated, use `learning_rate` instead.\n",
            "  \"The `lr` argument is deprecated, use `learning_rate` instead.\")\n"
          ],
          "name": "stderr"
        }
      ]
    },
    {
      "cell_type": "code",
      "metadata": {
        "id": "E691yAf4caaU",
        "colab": {
          "base_uri": "https://localhost:8080/"
        },
        "outputId": "80f59335-34bf-49d8-fc99-5693d5e7ca38"
      },
      "source": [
        "INPUT_DIR = '/content/drive/MyDrive/edge dataset'\n",
        "datagen = ImageDataGenerator(\n",
        "        rotation_range=40,\n",
        "        width_shift_range=0.2,\n",
        "        height_shift_range=0.2,\n",
        "        rescale=1./255,\n",
        "        shear_range=0.2,\n",
        "        zoom_range=0.2,\n",
        "        horizontal_flip=True,\n",
        "        fill_mode='nearest',validation_split=0.3)\n",
        "validation_generator=datagen.flow_from_directory(INPUT_DIR,\n",
        "                            target_size=(size,size),\n",
        "                            color_mode='grayscale',\n",
        "                            class_mode='categorical',\n",
        "                            batch_size=batchsize,\n",
        "                            seed=1996,\n",
        "                            subset='validation')\n",
        "train_generator=datagen.flow_from_directory(INPUT_DIR,\n",
        "                            target_size=(size,size),\n",
        "                            color_mode='grayscale',\n",
        "                            class_mode='categorical',\n",
        "                            batch_size=batchsize,\n",
        "                            seed=1996,\n",
        "                            subset='training')"
      ],
      "execution_count": 6,
      "outputs": [
        {
          "output_type": "stream",
          "text": [
            "Found 1026 images belonging to 5 classes.\n",
            "Found 2403 images belonging to 5 classes.\n"
          ],
          "name": "stdout"
        }
      ]
    },
    {
      "cell_type": "markdown",
      "metadata": {
        "id": "TrKe2-fU9IaQ"
      },
      "source": [
        ""
      ]
    },
    {
      "cell_type": "code",
      "metadata": {
        "id": "p5c6pT-jfr8C",
        "colab": {
          "base_uri": "https://localhost:8080/"
        },
        "outputId": "4eb6afd0-1eee-4c1a-aa06-29b26bba5a05"
      },
      "source": [
        "from sklearn.utils import class_weight \n",
        "class_weights = class_weight.compute_class_weight(\n",
        "           'balanced',\n",
        "            np.unique(train_generator.classes), \n",
        "            train_generator.classes)\n",
        "class_weights= dict(enumerate(class_weights))\n",
        "checkpoint_filepath = '/content/checkpoint'\n",
        "model_checkpoint_callback = tf.keras.callbacks.ModelCheckpoint(\n",
        "    filepath=checkpoint_filepath,\n",
        "    save_weights_only=True,\n",
        "    monitor='val_accuracy',\n",
        "    mode='max',\n",
        "    save_best_only=True)\n",
        "model.fit_generator(train_generator,\n",
        "    steps_per_epoch = train_generator.samples // batchsize,\n",
        "    validation_data = validation_generator, \n",
        "    validation_steps = validation_generator.samples // batchsize,\n",
        "    epochs = EPOCHS,\n",
        "    class_weight=class_weights,callbacks=[model_checkpoint_callback],workers=4)"
      ],
      "execution_count": 8,
      "outputs": [
        {
          "output_type": "stream",
          "text": [
            "/usr/local/lib/python3.7/dist-packages/tensorflow/python/keras/engine/training.py:1940: UserWarning: `Model.fit_generator` is deprecated and will be removed in a future version. Please use `Model.fit`, which supports generators.\n",
            "  warnings.warn('`Model.fit_generator` is deprecated and '\n"
          ],
          "name": "stderr"
        },
        {
          "output_type": "stream",
          "text": [
            "WARNING:tensorflow:From /usr/local/lib/python3.7/dist-packages/tensorflow/python/ops/array_ops.py:5049: calling gather (from tensorflow.python.ops.array_ops) with validate_indices is deprecated and will be removed in a future version.\n",
            "Instructions for updating:\n",
            "The `validate_indices` argument has no effect. Indices are always validated on CPU and never validated on GPU.\n",
            "Epoch 1/50\n",
            "48/48 [==============================] - 280s 5s/step - loss: 1.2515 - accuracy: 0.3519 - val_loss: 1.7718 - val_accuracy: 0.0700\n",
            "Epoch 2/50\n",
            "48/48 [==============================] - 105s 2s/step - loss: 0.8222 - accuracy: 0.5593 - val_loss: 1.6548 - val_accuracy: 0.0710\n",
            "Epoch 3/50\n",
            "48/48 [==============================] - 105s 2s/step - loss: 0.6363 - accuracy: 0.6634 - val_loss: 1.6313 - val_accuracy: 0.0710\n",
            "Epoch 4/50\n",
            "48/48 [==============================] - 103s 2s/step - loss: 0.5659 - accuracy: 0.6893 - val_loss: 1.5659 - val_accuracy: 0.6120\n",
            "Epoch 5/50\n",
            "48/48 [==============================] - 107s 2s/step - loss: 0.4855 - accuracy: 0.7556 - val_loss: 1.6424 - val_accuracy: 0.6120\n",
            "Epoch 6/50\n",
            "48/48 [==============================] - 106s 2s/step - loss: 0.4148 - accuracy: 0.7756 - val_loss: 1.5478 - val_accuracy: 0.6200\n",
            "Epoch 7/50\n",
            "48/48 [==============================] - 106s 2s/step - loss: 0.3620 - accuracy: 0.8253 - val_loss: 1.6116 - val_accuracy: 0.6180\n",
            "Epoch 8/50\n",
            "48/48 [==============================] - 105s 2s/step - loss: 0.3436 - accuracy: 0.8398 - val_loss: 1.6131 - val_accuracy: 0.6160\n",
            "Epoch 9/50\n",
            "48/48 [==============================] - 107s 2s/step - loss: 0.4618 - accuracy: 0.7646 - val_loss: 4.7296 - val_accuracy: 0.0720\n",
            "Epoch 10/50\n",
            "48/48 [==============================] - 106s 2s/step - loss: 0.4222 - accuracy: 0.7782 - val_loss: 2.2124 - val_accuracy: 0.0690\n",
            "Epoch 11/50\n",
            "48/48 [==============================] - 107s 2s/step - loss: 0.2896 - accuracy: 0.8542 - val_loss: 1.4327 - val_accuracy: 0.6200\n",
            "Epoch 12/50\n",
            "48/48 [==============================] - 106s 2s/step - loss: 0.2830 - accuracy: 0.8670 - val_loss: 1.4274 - val_accuracy: 0.6150\n",
            "Epoch 13/50\n",
            "48/48 [==============================] - 105s 2s/step - loss: 0.2093 - accuracy: 0.9018 - val_loss: 1.1340 - val_accuracy: 0.7120\n",
            "Epoch 14/50\n",
            "48/48 [==============================] - 107s 2s/step - loss: 0.1841 - accuracy: 0.9057 - val_loss: 1.3263 - val_accuracy: 0.6200\n",
            "Epoch 15/50\n",
            "48/48 [==============================] - 106s 2s/step - loss: 0.1863 - accuracy: 0.9099 - val_loss: 1.4042 - val_accuracy: 0.6210\n",
            "Epoch 16/50\n",
            "48/48 [==============================] - 107s 2s/step - loss: 0.2900 - accuracy: 0.8491 - val_loss: 4.4684 - val_accuracy: 0.4380\n",
            "Epoch 17/50\n",
            "48/48 [==============================] - 108s 2s/step - loss: 0.2055 - accuracy: 0.8946 - val_loss: 3.7659 - val_accuracy: 0.3310\n",
            "Epoch 18/50\n",
            "48/48 [==============================] - 114s 2s/step - loss: 0.1367 - accuracy: 0.9316 - val_loss: 1.3148 - val_accuracy: 0.6840\n",
            "Epoch 19/50\n",
            "48/48 [==============================] - 107s 2s/step - loss: 0.1309 - accuracy: 0.9354 - val_loss: 5.7320 - val_accuracy: 0.3230\n",
            "Epoch 20/50\n",
            "48/48 [==============================] - 107s 2s/step - loss: 0.2773 - accuracy: 0.8763 - val_loss: 5.4725 - val_accuracy: 0.4180\n",
            "Epoch 21/50\n",
            "48/48 [==============================] - 108s 2s/step - loss: 0.1701 - accuracy: 0.9227 - val_loss: 3.0742 - val_accuracy: 0.5360\n",
            "Epoch 22/50\n",
            "48/48 [==============================] - 106s 2s/step - loss: 0.1561 - accuracy: 0.9329 - val_loss: 1.5324 - val_accuracy: 0.6250\n",
            "Epoch 23/50\n",
            "48/48 [==============================] - 107s 2s/step - loss: 0.2247 - accuracy: 0.8895 - val_loss: 8.7351 - val_accuracy: 0.3360\n",
            "Epoch 24/50\n",
            "48/48 [==============================] - 106s 2s/step - loss: 0.2815 - accuracy: 0.8644 - val_loss: 5.3079 - val_accuracy: 0.0960\n",
            "Epoch 25/50\n",
            "48/48 [==============================] - 105s 2s/step - loss: 0.3668 - accuracy: 0.8483 - val_loss: 7.9205 - val_accuracy: 0.1930\n",
            "Epoch 26/50\n",
            "48/48 [==============================] - 104s 2s/step - loss: 0.1905 - accuracy: 0.9125 - val_loss: 21.6483 - val_accuracy: 0.1400\n",
            "Epoch 27/50\n",
            "48/48 [==============================] - 107s 2s/step - loss: 0.7145 - accuracy: 0.6821 - val_loss: 18.0071 - val_accuracy: 0.2370\n",
            "Epoch 28/50\n",
            "48/48 [==============================] - 105s 2s/step - loss: 0.2100 - accuracy: 0.8955 - val_loss: 5.6783 - val_accuracy: 0.4570\n",
            "Epoch 29/50\n",
            "48/48 [==============================] - 104s 2s/step - loss: 0.1668 - accuracy: 0.9269 - val_loss: 0.8679 - val_accuracy: 0.7540\n",
            "Epoch 30/50\n",
            "48/48 [==============================] - 113s 2s/step - loss: 0.1684 - accuracy: 0.9184 - val_loss: 6.3088 - val_accuracy: 0.2870\n",
            "Epoch 31/50\n",
            "48/48 [==============================] - 105s 2s/step - loss: 0.1742 - accuracy: 0.9092 - val_loss: 0.9598 - val_accuracy: 0.7750\n",
            "Epoch 32/50\n",
            "48/48 [==============================] - 105s 2s/step - loss: 0.0890 - accuracy: 0.9588 - val_loss: 0.7348 - val_accuracy: 0.8100\n",
            "Epoch 33/50\n",
            "48/48 [==============================] - 104s 2s/step - loss: 0.1033 - accuracy: 0.9439 - val_loss: 3.1750 - val_accuracy: 0.4760\n",
            "Epoch 34/50\n",
            "48/48 [==============================] - 103s 2s/step - loss: 0.0848 - accuracy: 0.9592 - val_loss: 0.8945 - val_accuracy: 0.6840\n",
            "Epoch 35/50\n",
            "48/48 [==============================] - 105s 2s/step - loss: 0.1115 - accuracy: 0.9490 - val_loss: 6.6074 - val_accuracy: 0.3630\n",
            "Epoch 36/50\n",
            "48/48 [==============================] - 104s 2s/step - loss: 0.1738 - accuracy: 0.9303 - val_loss: 16.7646 - val_accuracy: 0.2170\n",
            "Epoch 37/50\n",
            "48/48 [==============================] - 105s 2s/step - loss: 0.2132 - accuracy: 0.8780 - val_loss: 23.4427 - val_accuracy: 0.2350\n",
            "Epoch 38/50\n",
            "48/48 [==============================] - 105s 2s/step - loss: 0.1354 - accuracy: 0.9235 - val_loss: 1.9137 - val_accuracy: 0.6230\n",
            "Epoch 39/50\n",
            "48/48 [==============================] - 105s 2s/step - loss: 0.0913 - accuracy: 0.9550 - val_loss: 1.6772 - val_accuracy: 0.6520\n",
            "Epoch 40/50\n",
            "48/48 [==============================] - 105s 2s/step - loss: 0.5188 - accuracy: 0.7344 - val_loss: 9.9046 - val_accuracy: 0.6520\n",
            "Epoch 41/50\n",
            "48/48 [==============================] - 112s 2s/step - loss: 0.2290 - accuracy: 0.8921 - val_loss: 7.0061 - val_accuracy: 0.4200\n",
            "Epoch 42/50\n",
            "48/48 [==============================] - 107s 2s/step - loss: 0.2436 - accuracy: 0.8797 - val_loss: 9.2264 - val_accuracy: 0.1640\n",
            "Epoch 43/50\n",
            "48/48 [==============================] - 106s 2s/step - loss: 0.1241 - accuracy: 0.9401 - val_loss: 7.4736 - val_accuracy: 0.2500\n",
            "Epoch 44/50\n",
            "48/48 [==============================] - 105s 2s/step - loss: 0.2200 - accuracy: 0.8946 - val_loss: 1.6275 - val_accuracy: 0.6720\n",
            "Epoch 45/50\n",
            "48/48 [==============================] - 107s 2s/step - loss: 0.1020 - accuracy: 0.9520 - val_loss: 2.7478 - val_accuracy: 0.4640\n",
            "Epoch 46/50\n",
            "48/48 [==============================] - 106s 2s/step - loss: 0.1039 - accuracy: 0.9507 - val_loss: 0.9857 - val_accuracy: 0.7260\n",
            "Epoch 47/50\n",
            "48/48 [==============================] - 108s 2s/step - loss: 0.0995 - accuracy: 0.9596 - val_loss: 1.1093 - val_accuracy: 0.7410\n",
            "Epoch 48/50\n",
            "48/48 [==============================] - 107s 2s/step - loss: 0.0973 - accuracy: 0.9482 - val_loss: 0.8398 - val_accuracy: 0.7780\n",
            "Epoch 49/50\n",
            "48/48 [==============================] - 106s 2s/step - loss: 0.4953 - accuracy: 0.8474 - val_loss: 10.2728 - val_accuracy: 0.2300\n",
            "Epoch 50/50\n",
            "48/48 [==============================] - 107s 2s/step - loss: 0.1482 - accuracy: 0.9346 - val_loss: 0.4996 - val_accuracy: 0.8180\n"
          ],
          "name": "stdout"
        },
        {
          "output_type": "execute_result",
          "data": {
            "text/plain": [
              "<tensorflow.python.keras.callbacks.History at 0x7fb6410718d0>"
            ]
          },
          "metadata": {
            "tags": []
          },
          "execution_count": 8
        }
      ]
    },
    {
      "cell_type": "code",
      "metadata": {
        "colab": {
          "base_uri": "https://localhost:8080/"
        },
        "id": "nVSmkCxOzktM",
        "outputId": "51ba41fb-32ad-44cf-9fc7-909b5b2449d4"
      },
      "source": [
        "model.save('my_model_gray')"
      ],
      "execution_count": 9,
      "outputs": [
        {
          "output_type": "stream",
          "text": [
            "INFO:tensorflow:Assets written to: my_model_gray/assets\n"
          ],
          "name": "stdout"
        }
      ]
    },
    {
      "cell_type": "code",
      "metadata": {
        "id": "hixLsi8xsPjE"
      },
      "source": [
        ""
      ],
      "execution_count": null,
      "outputs": []
    }
  ]
}