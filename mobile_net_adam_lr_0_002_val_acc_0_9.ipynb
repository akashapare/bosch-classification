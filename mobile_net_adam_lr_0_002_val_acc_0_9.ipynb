{
  "nbformat": 4,
  "nbformat_minor": 0,
  "metadata": {
    "colab": {
      "name": "mobile_net_adam_lr_0.002_val_acc_0.9.ipynb",
      "provenance": [],
      "collapsed_sections": [
        "-Ww9I_5tWloe",
        "n6VZNEKZcL6d"
      ],
      "mount_file_id": "1i9ehXIwLX9eY8A_vLjQlLaCwen28azrC",
      "authorship_tag": "ABX9TyMHy2+JbQ/EALwgJpBTVEzr",
      "include_colab_link": true
    },
    "kernelspec": {
      "name": "python3",
      "display_name": "Python 3"
    },
    "language_info": {
      "name": "python"
    },
    "accelerator": "GPU"
  },
  "cells": [
    {
      "cell_type": "markdown",
      "metadata": {
        "id": "view-in-github",
        "colab_type": "text"
      },
      "source": [
        "<a href=\"https://colab.research.google.com/github/akashapare/bosch-classification/blob/main/mobile_net_adam_lr_0_002_val_acc_0_9.ipynb\" target=\"_parent\"><img src=\"https://colab.research.google.com/assets/colab-badge.svg\" alt=\"Open In Colab\"/></a>"
      ]
    },
    {
      "cell_type": "code",
      "metadata": {
        "id": "XGjwSO1lMnUY"
      },
      "source": [
        ""
      ],
      "execution_count": null,
      "outputs": []
    },
    {
      "cell_type": "markdown",
      "metadata": {
        "id": "-Ww9I_5tWloe"
      },
      "source": [
        "#imports and declerations"
      ]
    },
    {
      "cell_type": "code",
      "metadata": {
        "id": "vkbrcI_Wmx54"
      },
      "source": [
        "from __future__ import print_function\n",
        "import tensorflow as tf\n",
        "from tensorflow import keras\n",
        "from keras.datasets import cifar10\n",
        "from keras.preprocessing.image import ImageDataGenerator\n",
        "from keras.preprocessing import image\n",
        "from keras.models import Sequential\n",
        "from keras.layers import Dense, Dropout, Activation, Flatten\n",
        "from keras.layers import Conv2D, MaxPooling2D\n",
        "import os\n",
        "import numpy as np\n",
        "import matplotlib.pyplot as plt\n",
        "from PIL import Image,ImageFilter,ImageStat,ImageTransform, ImageOps,ImageShow\n",
        "import random\n",
        "from tensorflow.keras.metrics import categorical_accuracy, top_k_categorical_accuracy, categorical_crossentropy\n",
        "from tensorflow.keras.models import Sequential\n",
        "from tensorflow.keras.callbacks import EarlyStopping, ReduceLROnPlateau, ModelCheckpoint\n",
        "from tensorflow.keras.optimizers import Adam\n",
        "from tensorflow.keras.applications import MobileNet\n",
        "from tensorflow.keras.applications.mobilenet import preprocess_input\n",
        "#start = dt.datetime.now()"
      ],
      "execution_count": 1,
      "outputs": []
    },
    {
      "cell_type": "markdown",
      "metadata": {
        "id": "Uvq5ran_O81z"
      },
      "source": [
        ""
      ]
    },
    {
      "cell_type": "code",
      "metadata": {
        "id": "IpvEAZLxnB5R"
      },
      "source": [
        "import zipfile\n",
        "import os\n",
        "\n",
        "zip_ref = zipfile.ZipFile('/content/drive/MyDrive/dataset.zip', 'r') #Opens the zip file in read mode\n",
        "zip_ref.extractall('/content') #Extracts the files into the /tmp folder\n",
        "zip_ref.close()\n"
      ],
      "execution_count": 3,
      "outputs": []
    },
    {
      "cell_type": "code",
      "metadata": {
        "colab": {
          "base_uri": "https://localhost:8080/"
        },
        "id": "ZGpcNxdqWQpd",
        "outputId": "b6ef028b-ddb1-4bb1-96b8-715122df91ca"
      },
      "source": [
        "from google.colab import drive\n",
        "drive.mount('/content/drive')"
      ],
      "execution_count": 1,
      "outputs": [
        {
          "output_type": "stream",
          "text": [
            "Drive already mounted at /content/drive; to attempt to forcibly remount, call drive.mount(\"/content/drive\", force_remount=True).\n"
          ],
          "name": "stdout"
        }
      ]
    },
    {
      "cell_type": "code",
      "metadata": {
        "id": "7xj50JoDnCE_"
      },
      "source": [
        "INPUT_DIR = '/content/dataset'\n",
        "#INPUT_DIR = '/content/drive/MyDrive/edge dataset'\n",
        "#INPUT_DIR = '/content/drive/MyDrive/gray dataset'\n",
        "#INPUT_DIR = '/content/drive/MyDrive/gray_eq dataset'"
      ],
      "execution_count": 2,
      "outputs": []
    },
    {
      "cell_type": "code",
      "metadata": {
        "id": "dGDihPtoKKVG"
      },
      "source": [
        "BASE_SIZE =224 \n",
        "NCATS = 5\n",
        "tf.random.set_seed(1996)"
      ],
      "execution_count": 3,
      "outputs": []
    },
    {
      "cell_type": "code",
      "metadata": {
        "id": "tnebmyXINP0F"
      },
      "source": [
        "EPOCHS = 15\n",
        "size = 224\n",
        "batchsize = 50"
      ],
      "execution_count": 4,
      "outputs": []
    },
    {
      "cell_type": "markdown",
      "metadata": {
        "id": "bLEXHhKbcEvZ"
      },
      "source": [
        "#model for colour images"
      ]
    },
    {
      "cell_type": "markdown",
      "metadata": {
        "id": "GmS50B1e-Q7g"
      },
      "source": [
        "NOTE:\n",
        "this model is trained on top of previous weight improvement with 0.86 accuracy\n"
      ]
    },
    {
      "cell_type": "code",
      "metadata": {
        "colab": {
          "base_uri": "https://localhost:8080/"
        },
        "id": "g_0aJh4uNjYa",
        "outputId": "d28df5a9-c02e-4872-c771-0c3730527672"
      },
      "source": [
        "model = MobileNet(input_shape=(size, size, 3), alpha=1., weights='/content/drive/MyDrive/color model .86 val acc plateau/weights-improvement-13-0.91.hdf5', classes=NCATS)\n",
        "model.compile(optimizer=Adam(lr=0.002), loss='categorical_crossentropy',\n",
        "              metrics=['accuracy',keras.metrics.Precision(),keras.metrics.Recall(),keras.metrics.AUC()])\n",
        "print(model.summary())"
      ],
      "execution_count": 5,
      "outputs": [
        {
          "output_type": "stream",
          "text": [
            "Model: \"mobilenet_1.00_224\"\n",
            "_________________________________________________________________\n",
            "Layer (type)                 Output Shape              Param #   \n",
            "=================================================================\n",
            "input_1 (InputLayer)         [(None, 224, 224, 3)]     0         \n",
            "_________________________________________________________________\n",
            "conv1 (Conv2D)               (None, 112, 112, 32)      864       \n",
            "_________________________________________________________________\n",
            "conv1_bn (BatchNormalization (None, 112, 112, 32)      128       \n",
            "_________________________________________________________________\n",
            "conv1_relu (ReLU)            (None, 112, 112, 32)      0         \n",
            "_________________________________________________________________\n",
            "conv_dw_1 (DepthwiseConv2D)  (None, 112, 112, 32)      288       \n",
            "_________________________________________________________________\n",
            "conv_dw_1_bn (BatchNormaliza (None, 112, 112, 32)      128       \n",
            "_________________________________________________________________\n",
            "conv_dw_1_relu (ReLU)        (None, 112, 112, 32)      0         \n",
            "_________________________________________________________________\n",
            "conv_pw_1 (Conv2D)           (None, 112, 112, 64)      2048      \n",
            "_________________________________________________________________\n",
            "conv_pw_1_bn (BatchNormaliza (None, 112, 112, 64)      256       \n",
            "_________________________________________________________________\n",
            "conv_pw_1_relu (ReLU)        (None, 112, 112, 64)      0         \n",
            "_________________________________________________________________\n",
            "conv_pad_2 (ZeroPadding2D)   (None, 113, 113, 64)      0         \n",
            "_________________________________________________________________\n",
            "conv_dw_2 (DepthwiseConv2D)  (None, 56, 56, 64)        576       \n",
            "_________________________________________________________________\n",
            "conv_dw_2_bn (BatchNormaliza (None, 56, 56, 64)        256       \n",
            "_________________________________________________________________\n",
            "conv_dw_2_relu (ReLU)        (None, 56, 56, 64)        0         \n",
            "_________________________________________________________________\n",
            "conv_pw_2 (Conv2D)           (None, 56, 56, 128)       8192      \n",
            "_________________________________________________________________\n",
            "conv_pw_2_bn (BatchNormaliza (None, 56, 56, 128)       512       \n",
            "_________________________________________________________________\n",
            "conv_pw_2_relu (ReLU)        (None, 56, 56, 128)       0         \n",
            "_________________________________________________________________\n",
            "conv_dw_3 (DepthwiseConv2D)  (None, 56, 56, 128)       1152      \n",
            "_________________________________________________________________\n",
            "conv_dw_3_bn (BatchNormaliza (None, 56, 56, 128)       512       \n",
            "_________________________________________________________________\n",
            "conv_dw_3_relu (ReLU)        (None, 56, 56, 128)       0         \n",
            "_________________________________________________________________\n",
            "conv_pw_3 (Conv2D)           (None, 56, 56, 128)       16384     \n",
            "_________________________________________________________________\n",
            "conv_pw_3_bn (BatchNormaliza (None, 56, 56, 128)       512       \n",
            "_________________________________________________________________\n",
            "conv_pw_3_relu (ReLU)        (None, 56, 56, 128)       0         \n",
            "_________________________________________________________________\n",
            "conv_pad_4 (ZeroPadding2D)   (None, 57, 57, 128)       0         \n",
            "_________________________________________________________________\n",
            "conv_dw_4 (DepthwiseConv2D)  (None, 28, 28, 128)       1152      \n",
            "_________________________________________________________________\n",
            "conv_dw_4_bn (BatchNormaliza (None, 28, 28, 128)       512       \n",
            "_________________________________________________________________\n",
            "conv_dw_4_relu (ReLU)        (None, 28, 28, 128)       0         \n",
            "_________________________________________________________________\n",
            "conv_pw_4 (Conv2D)           (None, 28, 28, 256)       32768     \n",
            "_________________________________________________________________\n",
            "conv_pw_4_bn (BatchNormaliza (None, 28, 28, 256)       1024      \n",
            "_________________________________________________________________\n",
            "conv_pw_4_relu (ReLU)        (None, 28, 28, 256)       0         \n",
            "_________________________________________________________________\n",
            "conv_dw_5 (DepthwiseConv2D)  (None, 28, 28, 256)       2304      \n",
            "_________________________________________________________________\n",
            "conv_dw_5_bn (BatchNormaliza (None, 28, 28, 256)       1024      \n",
            "_________________________________________________________________\n",
            "conv_dw_5_relu (ReLU)        (None, 28, 28, 256)       0         \n",
            "_________________________________________________________________\n",
            "conv_pw_5 (Conv2D)           (None, 28, 28, 256)       65536     \n",
            "_________________________________________________________________\n",
            "conv_pw_5_bn (BatchNormaliza (None, 28, 28, 256)       1024      \n",
            "_________________________________________________________________\n",
            "conv_pw_5_relu (ReLU)        (None, 28, 28, 256)       0         \n",
            "_________________________________________________________________\n",
            "conv_pad_6 (ZeroPadding2D)   (None, 29, 29, 256)       0         \n",
            "_________________________________________________________________\n",
            "conv_dw_6 (DepthwiseConv2D)  (None, 14, 14, 256)       2304      \n",
            "_________________________________________________________________\n",
            "conv_dw_6_bn (BatchNormaliza (None, 14, 14, 256)       1024      \n",
            "_________________________________________________________________\n",
            "conv_dw_6_relu (ReLU)        (None, 14, 14, 256)       0         \n",
            "_________________________________________________________________\n",
            "conv_pw_6 (Conv2D)           (None, 14, 14, 512)       131072    \n",
            "_________________________________________________________________\n",
            "conv_pw_6_bn (BatchNormaliza (None, 14, 14, 512)       2048      \n",
            "_________________________________________________________________\n",
            "conv_pw_6_relu (ReLU)        (None, 14, 14, 512)       0         \n",
            "_________________________________________________________________\n",
            "conv_dw_7 (DepthwiseConv2D)  (None, 14, 14, 512)       4608      \n",
            "_________________________________________________________________\n",
            "conv_dw_7_bn (BatchNormaliza (None, 14, 14, 512)       2048      \n",
            "_________________________________________________________________\n",
            "conv_dw_7_relu (ReLU)        (None, 14, 14, 512)       0         \n",
            "_________________________________________________________________\n",
            "conv_pw_7 (Conv2D)           (None, 14, 14, 512)       262144    \n",
            "_________________________________________________________________\n",
            "conv_pw_7_bn (BatchNormaliza (None, 14, 14, 512)       2048      \n",
            "_________________________________________________________________\n",
            "conv_pw_7_relu (ReLU)        (None, 14, 14, 512)       0         \n",
            "_________________________________________________________________\n",
            "conv_dw_8 (DepthwiseConv2D)  (None, 14, 14, 512)       4608      \n",
            "_________________________________________________________________\n",
            "conv_dw_8_bn (BatchNormaliza (None, 14, 14, 512)       2048      \n",
            "_________________________________________________________________\n",
            "conv_dw_8_relu (ReLU)        (None, 14, 14, 512)       0         \n",
            "_________________________________________________________________\n",
            "conv_pw_8 (Conv2D)           (None, 14, 14, 512)       262144    \n",
            "_________________________________________________________________\n",
            "conv_pw_8_bn (BatchNormaliza (None, 14, 14, 512)       2048      \n",
            "_________________________________________________________________\n",
            "conv_pw_8_relu (ReLU)        (None, 14, 14, 512)       0         \n",
            "_________________________________________________________________\n",
            "conv_dw_9 (DepthwiseConv2D)  (None, 14, 14, 512)       4608      \n",
            "_________________________________________________________________\n",
            "conv_dw_9_bn (BatchNormaliza (None, 14, 14, 512)       2048      \n",
            "_________________________________________________________________\n",
            "conv_dw_9_relu (ReLU)        (None, 14, 14, 512)       0         \n",
            "_________________________________________________________________\n",
            "conv_pw_9 (Conv2D)           (None, 14, 14, 512)       262144    \n",
            "_________________________________________________________________\n",
            "conv_pw_9_bn (BatchNormaliza (None, 14, 14, 512)       2048      \n",
            "_________________________________________________________________\n",
            "conv_pw_9_relu (ReLU)        (None, 14, 14, 512)       0         \n",
            "_________________________________________________________________\n",
            "conv_dw_10 (DepthwiseConv2D) (None, 14, 14, 512)       4608      \n",
            "_________________________________________________________________\n",
            "conv_dw_10_bn (BatchNormaliz (None, 14, 14, 512)       2048      \n",
            "_________________________________________________________________\n",
            "conv_dw_10_relu (ReLU)       (None, 14, 14, 512)       0         \n",
            "_________________________________________________________________\n",
            "conv_pw_10 (Conv2D)          (None, 14, 14, 512)       262144    \n",
            "_________________________________________________________________\n",
            "conv_pw_10_bn (BatchNormaliz (None, 14, 14, 512)       2048      \n",
            "_________________________________________________________________\n",
            "conv_pw_10_relu (ReLU)       (None, 14, 14, 512)       0         \n",
            "_________________________________________________________________\n",
            "conv_dw_11 (DepthwiseConv2D) (None, 14, 14, 512)       4608      \n",
            "_________________________________________________________________\n",
            "conv_dw_11_bn (BatchNormaliz (None, 14, 14, 512)       2048      \n",
            "_________________________________________________________________\n",
            "conv_dw_11_relu (ReLU)       (None, 14, 14, 512)       0         \n",
            "_________________________________________________________________\n",
            "conv_pw_11 (Conv2D)          (None, 14, 14, 512)       262144    \n",
            "_________________________________________________________________\n",
            "conv_pw_11_bn (BatchNormaliz (None, 14, 14, 512)       2048      \n",
            "_________________________________________________________________\n",
            "conv_pw_11_relu (ReLU)       (None, 14, 14, 512)       0         \n",
            "_________________________________________________________________\n",
            "conv_pad_12 (ZeroPadding2D)  (None, 15, 15, 512)       0         \n",
            "_________________________________________________________________\n",
            "conv_dw_12 (DepthwiseConv2D) (None, 7, 7, 512)         4608      \n",
            "_________________________________________________________________\n",
            "conv_dw_12_bn (BatchNormaliz (None, 7, 7, 512)         2048      \n",
            "_________________________________________________________________\n",
            "conv_dw_12_relu (ReLU)       (None, 7, 7, 512)         0         \n",
            "_________________________________________________________________\n",
            "conv_pw_12 (Conv2D)          (None, 7, 7, 1024)        524288    \n",
            "_________________________________________________________________\n",
            "conv_pw_12_bn (BatchNormaliz (None, 7, 7, 1024)        4096      \n",
            "_________________________________________________________________\n",
            "conv_pw_12_relu (ReLU)       (None, 7, 7, 1024)        0         \n",
            "_________________________________________________________________\n",
            "conv_dw_13 (DepthwiseConv2D) (None, 7, 7, 1024)        9216      \n",
            "_________________________________________________________________\n",
            "conv_dw_13_bn (BatchNormaliz (None, 7, 7, 1024)        4096      \n",
            "_________________________________________________________________\n",
            "conv_dw_13_relu (ReLU)       (None, 7, 7, 1024)        0         \n",
            "_________________________________________________________________\n",
            "conv_pw_13 (Conv2D)          (None, 7, 7, 1024)        1048576   \n",
            "_________________________________________________________________\n",
            "conv_pw_13_bn (BatchNormaliz (None, 7, 7, 1024)        4096      \n",
            "_________________________________________________________________\n",
            "conv_pw_13_relu (ReLU)       (None, 7, 7, 1024)        0         \n",
            "_________________________________________________________________\n",
            "global_average_pooling2d (Gl (None, 1024)              0         \n",
            "_________________________________________________________________\n",
            "reshape_1 (Reshape)          (None, 1, 1, 1024)        0         \n",
            "_________________________________________________________________\n",
            "dropout (Dropout)            (None, 1, 1, 1024)        0         \n",
            "_________________________________________________________________\n",
            "conv_preds (Conv2D)          (None, 1, 1, 5)           5125      \n",
            "_________________________________________________________________\n",
            "reshape_2 (Reshape)          (None, 5)                 0         \n",
            "_________________________________________________________________\n",
            "predictions (Activation)     (None, 5)                 0         \n",
            "=================================================================\n",
            "Total params: 3,233,989\n",
            "Trainable params: 3,212,101\n",
            "Non-trainable params: 21,888\n",
            "_________________________________________________________________\n",
            "None\n"
          ],
          "name": "stdout"
        },
        {
          "output_type": "stream",
          "text": [
            "/usr/local/lib/python3.7/dist-packages/tensorflow/python/keras/optimizer_v2/optimizer_v2.py:375: UserWarning: The `lr` argument is deprecated, use `learning_rate` instead.\n",
            "  \"The `lr` argument is deprecated, use `learning_rate` instead.\")\n"
          ],
          "name": "stderr"
        }
      ]
    },
    {
      "cell_type": "code",
      "metadata": {
        "id": "baMP4oTvWhTh",
        "colab": {
          "base_uri": "https://localhost:8080/"
        },
        "outputId": "de116be3-3bd9-4e39-a56c-dedbee9a524d"
      },
      "source": [
        "datagen = ImageDataGenerator(\n",
        "        rotation_range=40,\n",
        "        width_shift_range=0.2,\n",
        "        height_shift_range=0.2,\n",
        "        rescale=1./255,\n",
        "        shear_range=0.2,\n",
        "        zoom_range=0.2,\n",
        "        horizontal_flip=True,\n",
        "        fill_mode='nearest',validation_split=0.3,)\n",
        "validation_generator=datagen.flow_from_directory(INPUT_DIR,\n",
        "                            target_size=(size,size),\n",
        "                            color_mode='rgb',\n",
        "                            class_mode='categorical',\n",
        "                            batch_size=batchsize,\n",
        "                            seed=1996,\n",
        "                            subset='validation')\n",
        "train_generator=datagen.flow_from_directory(INPUT_DIR,\n",
        "                            target_size=(size,size),\n",
        "                            color_mode='rgb',\n",
        "                            class_mode='categorical',\n",
        "                            batch_size=batchsize,\n",
        "                            seed=1996,\n",
        "                            subset='training')"
      ],
      "execution_count": 8,
      "outputs": [
        {
          "output_type": "stream",
          "text": [
            "Found 1026 images belonging to 5 classes.\n",
            "Found 2403 images belonging to 5 classes.\n"
          ],
          "name": "stdout"
        }
      ]
    },
    {
      "cell_type": "code",
      "metadata": {
        "colab": {
          "base_uri": "https://localhost:8080/"
        },
        "id": "Ht4PnIxfm5-x",
        "outputId": "705fc0ee-e66b-4295-deaa-991d108bdcb6"
      },
      "source": [
        "from sklearn.utils import class_weight \n",
        "class_weights = class_weight.compute_class_weight(\n",
        "           'balanced',\n",
        "            np.unique(train_generator.classes), \n",
        "            train_generator.classes)\n",
        "class_weights= dict(enumerate(class_weights))\n",
        "checkpoint_filepath=\"weights-improvement-{epoch:02d}-{val_accuracy:.2f}.hdf5\"\n",
        "model_checkpoint_callback = tf.keras.callbacks.ModelCheckpoint(\n",
        "    filepath=checkpoint_filepath,\n",
        "    monitor='val_accuracy',\n",
        "    mode='max',\n",
        "    save_best_only=True,\n",
        "    verbose=1,\n",
        "    save_weights_only=True)\n",
        "history=model.fit_generator(train_generator,\n",
        "    steps_per_epoch = train_generator.samples // batchsize,\n",
        "    validation_data = validation_generator, \n",
        "    validation_steps = validation_generator.samples // batchsize,\n",
        "    epochs = EPOCHS,\n",
        "    class_weight=class_weights,callbacks=[model_checkpoint_callback],workers=4)"
      ],
      "execution_count": 11,
      "outputs": [
        {
          "output_type": "stream",
          "text": [
            "/usr/local/lib/python3.7/dist-packages/tensorflow/python/keras/engine/training.py:1940: UserWarning: `Model.fit_generator` is deprecated and will be removed in a future version. Please use `Model.fit`, which supports generators.\n",
            "  warnings.warn('`Model.fit_generator` is deprecated and '\n"
          ],
          "name": "stderr"
        },
        {
          "output_type": "stream",
          "text": [
            "Epoch 1/15\n",
            "48/48 [==============================] - 74s 1s/step - loss: 0.0910 - accuracy: 0.9584 - precision: 0.9595 - recall: 0.9567 - auc: 0.9959 - val_loss: 7.7465 - val_accuracy: 0.3540 - val_precision: 0.3544 - val_recall: 0.3530 - val_auc: 0.6222\n",
            "\n",
            "Epoch 00001: val_accuracy improved from -inf to 0.35400, saving model to weights-improvement-01-0.35.hdf5\n",
            "Epoch 2/15\n",
            "48/48 [==============================] - 87s 2s/step - loss: 0.1123 - accuracy: 0.9460 - precision: 0.9495 - recall: 0.9422 - auc: 0.9933 - val_loss: 3.5841 - val_accuracy: 0.5490 - val_precision: 0.5510 - val_recall: 0.5460 - val_auc: 0.7850\n",
            "\n",
            "Epoch 00002: val_accuracy improved from 0.35400 to 0.54900, saving model to weights-improvement-02-0.55.hdf5\n",
            "Epoch 3/15\n",
            "48/48 [==============================] - 75s 2s/step - loss: 0.0642 - accuracy: 0.9660 - precision: 0.9668 - recall: 0.9647 - auc: 0.9976 - val_loss: 0.6603 - val_accuracy: 0.8680 - val_precision: 0.8706 - val_recall: 0.8680 - val_auc: 0.9586\n",
            "\n",
            "Epoch 00003: val_accuracy improved from 0.54900 to 0.86800, saving model to weights-improvement-03-0.87.hdf5\n",
            "Epoch 4/15\n",
            "48/48 [==============================] - 75s 2s/step - loss: 0.1188 - accuracy: 0.9542 - precision: 0.9561 - recall: 0.9521 - auc: 0.9945 - val_loss: 6.4692 - val_accuracy: 0.4420 - val_precision: 0.4414 - val_recall: 0.4370 - val_auc: 0.6766\n",
            "\n",
            "Epoch 00004: val_accuracy did not improve from 0.86800\n",
            "Epoch 5/15\n",
            "48/48 [==============================] - 75s 2s/step - loss: 0.2150 - accuracy: 0.8963 - precision: 0.9034 - recall: 0.8908 - auc: 0.9837 - val_loss: 13.0281 - val_accuracy: 0.2290 - val_precision: 0.2299 - val_recall: 0.2290 - val_auc: 0.5551\n",
            "\n",
            "Epoch 00005: val_accuracy did not improve from 0.86800\n",
            "Epoch 6/15\n",
            "48/48 [==============================] - 86s 2s/step - loss: 0.2357 - accuracy: 0.8865 - precision: 0.8952 - recall: 0.8678 - auc: 0.9790 - val_loss: 11.6540 - val_accuracy: 0.3220 - val_precision: 0.3243 - val_recall: 0.3220 - val_auc: 0.6008\n",
            "\n",
            "Epoch 00006: val_accuracy did not improve from 0.86800\n",
            "Epoch 7/15\n",
            "48/48 [==============================] - 75s 2s/step - loss: 0.1259 - accuracy: 0.9456 - precision: 0.9485 - recall: 0.9397 - auc: 0.9945 - val_loss: 2.2515 - val_accuracy: 0.6110 - val_precision: 0.6117 - val_recall: 0.6080 - val_auc: 0.8325\n",
            "\n",
            "Epoch 00007: val_accuracy did not improve from 0.86800\n",
            "Epoch 8/15\n",
            "48/48 [==============================] - 75s 2s/step - loss: 0.0774 - accuracy: 0.9626 - precision: 0.9638 - recall: 0.9605 - auc: 0.9950 - val_loss: 2.4603 - val_accuracy: 0.6010 - val_precision: 0.6063 - val_recall: 0.5930 - val_auc: 0.8060\n",
            "\n",
            "Epoch 00008: val_accuracy did not improve from 0.86800\n",
            "Epoch 9/15\n",
            "48/48 [==============================] - 74s 2s/step - loss: 0.0819 - accuracy: 0.9554 - precision: 0.9562 - recall: 0.9550 - auc: 0.9963 - val_loss: 1.0461 - val_accuracy: 0.7020 - val_precision: 0.7143 - val_recall: 0.6900 - val_auc: 0.9073\n",
            "\n",
            "Epoch 00009: val_accuracy did not improve from 0.86800\n",
            "Epoch 10/15\n",
            "48/48 [==============================] - 75s 2s/step - loss: 0.0557 - accuracy: 0.9758 - precision: 0.9757 - recall: 0.9737 - auc: 0.9977 - val_loss: 1.5357 - val_accuracy: 0.6480 - val_precision: 0.6509 - val_recall: 0.6450 - val_auc: 0.8693\n",
            "\n",
            "Epoch 00010: val_accuracy did not improve from 0.86800\n",
            "Epoch 11/15\n",
            "48/48 [==============================] - 76s 2s/step - loss: 0.0535 - accuracy: 0.9728 - precision: 0.9736 - recall: 0.9715 - auc: 0.9977 - val_loss: 1.0027 - val_accuracy: 0.7810 - val_precision: 0.7811 - val_recall: 0.7780 - val_auc: 0.9219\n",
            "\n",
            "Epoch 00011: val_accuracy did not improve from 0.86800\n",
            "Epoch 12/15\n",
            "48/48 [==============================] - 75s 1s/step - loss: 0.0592 - accuracy: 0.9690 - precision: 0.9702 - recall: 0.9686 - auc: 0.9982 - val_loss: 0.9890 - val_accuracy: 0.7360 - val_precision: 0.7404 - val_recall: 0.7330 - val_auc: 0.9218\n",
            "\n",
            "Epoch 00012: val_accuracy did not improve from 0.86800\n",
            "Epoch 13/15\n",
            "48/48 [==============================] - 75s 2s/step - loss: 0.0423 - accuracy: 0.9771 - precision: 0.9783 - recall: 0.9771 - auc: 0.9983 - val_loss: 0.3026 - val_accuracy: 0.9100 - val_precision: 0.9107 - val_recall: 0.9080 - val_auc: 0.9857\n",
            "\n",
            "Epoch 00013: val_accuracy improved from 0.86800 to 0.91000, saving model to weights-improvement-13-0.91.hdf5\n",
            "Epoch 14/15\n",
            "48/48 [==============================] - 74s 1s/step - loss: 0.1093 - accuracy: 0.9465 - precision: 0.9476 - recall: 0.9460 - auc: 0.9916 - val_loss: 7.8465 - val_accuracy: 0.4650 - val_precision: 0.4695 - val_recall: 0.4620 - val_auc: 0.6914\n",
            "\n",
            "Epoch 00014: val_accuracy did not improve from 0.91000\n",
            "Epoch 15/15\n",
            "48/48 [==============================] - 76s 2s/step - loss: 0.1856 - accuracy: 0.9303 - precision: 0.9329 - recall: 0.9278 - auc: 0.9852 - val_loss: 25.7203 - val_accuracy: 0.1920 - val_precision: 0.1920 - val_recall: 0.1920 - val_auc: 0.5070\n",
            "\n",
            "Epoch 00015: val_accuracy did not improve from 0.91000\n"
          ],
          "name": "stdout"
        }
      ]
    },
    {
      "cell_type": "code",
      "metadata": {
        "colab": {
          "base_uri": "https://localhost:8080/"
        },
        "id": "HtyZqlGwkOTq",
        "outputId": "b183ce6f-d7f0-4fe7-e329-8d9bd854f3cf"
      },
      "source": [
        "print(history.history.keys())\n",
        "np.save('history.npy',history.history)"
      ],
      "execution_count": 12,
      "outputs": [
        {
          "output_type": "stream",
          "text": [
            "dict_keys(['loss', 'accuracy', 'precision', 'recall', 'auc', 'val_loss', 'val_accuracy', 'val_precision', 'val_recall', 'val_auc'])\n"
          ],
          "name": "stdout"
        }
      ]
    },
    {
      "cell_type": "code",
      "metadata": {
        "colab": {
          "base_uri": "https://localhost:8080/",
          "height": 497
        },
        "id": "dmmmtKEXsnxY",
        "outputId": "06229b7a-2e5b-40ae-b0db-ac7dd9aa8d65"
      },
      "source": [
        "plt.subplot(221)  \n",
        "plt.plot(history.history['accuracy'])  \n",
        "plt.plot(history.history['val_accuracy'])  \n",
        "plt.title('model accuracy')  \n",
        "plt.ylabel('accuracy')  \n",
        "plt.xlabel('epoch')  \n",
        "plt.legend(['train', 'val'], loc='upper left')  \n",
        "  \n",
        "# summarize history for loss  \n",
        "  \n",
        "plt.subplot(222)  \n",
        "plt.plot(history.history['loss'])  \n",
        "plt.plot(history.history['val_loss'])  \n",
        "plt.title('model loss')  \n",
        "plt.ylabel('loss')  \n",
        "plt.xlabel('epoch')  \n",
        "plt.legend(['train', 'val'], loc='upper left')  \n",
        "plt.show()  \n",
        "# precision and recall\n",
        "plt.subplot(223)  \n",
        "plt.plot(history.history['precision'],'-')  \n",
        "plt.plot(history.history['val_precision'],'-') \n",
        "plt.plot(history.history['recall'],'-')  \n",
        "plt.plot(history.history['val_recall'],'-')  \n",
        "plt.title('precision and recall')  \n",
        "plt.ylabel('precsision and recall')  \n",
        "plt.xlabel('epoch')  \n",
        "plt.legend(['train_precision', 'val_precision','train_recall','val_recall'], loc='upper left')  \n",
        "plt.show()  \n",
        "\n",
        "#AUC\n",
        "  \n",
        "plt.subplot(224)  \n",
        "plt.plot(history.history['auc'])  \n",
        "plt.plot(history.history['val_auc'])  \n",
        "plt.title('AUC')  \n",
        "plt.ylabel('AUC')  \n",
        "plt.xlabel('epoch')  \n",
        "plt.legend(['train', 'val'], loc='upper left')  \n",
        "plt.show()  "
      ],
      "execution_count": 13,
      "outputs": [
        {
          "output_type": "display_data",
          "data": {
            "image/png": "[encoded data removed]",
            "text/plain": [
              "<Figure size 432x288 with 2 Axes>"
            ]
          },
          "metadata": {
            "tags": [],
            "needs_background": "light"
          }
        },
        {
          "output_type": "display_data",
          "data": {
            "image/png": "[encoded data removed]",
            "text/plain": [
              "<Figure size 432x288 with 1 Axes>"
            ]
          },
          "metadata": {
            "tags": [],
            "needs_background": "light"
          }
        },
        {
          "output_type": "display_data",
          "data": {
            "image/png": "[encoded data removed]",
            "text/plain": [
              "<Figure size 432x288 with 1 Axes>"
            ]
          },
          "metadata": {
            "tags": [],
            "needs_background": "light"
          }
        }
      ]
    },
    {
      "cell_type": "code",
      "metadata": {
        "id": "Dlb3hwOB9st6"
      },
      "source": [
        "model.load_weights('/content/drive/MyDrive/color model .86 val acc plateau/weights-improvement-13-0.91.hdf5')"
      ],
      "execution_count": 22,
      "outputs": []
    },
    {
      "cell_type": "code",
      "metadata": {
        "colab": {
          "base_uri": "https://localhost:8080/"
        },
        "id": "aH0ek7Wt8IsJ",
        "outputId": "10963753-c98f-4a88-da17-291ad24d75a1"
      },
      "source": [
        "Y_pred=model.predict_generator(validation_generator,workers=4,verbose=1,steps=500)"
      ],
      "execution_count": 31,
      "outputs": [
        {
          "output_type": "stream",
          "text": [
            "/usr/local/lib/python3.7/dist-packages/tensorflow/python/keras/engine/training.py:2001: UserWarning: `Model.predict_generator` is deprecated and will be removed in a future version. Please use `Model.predict`, which supports generators.\n",
            "  warnings.warn('`Model.predict_generator` is deprecated and '\n"
          ],
          "name": "stderr"
        },
        {
          "output_type": "stream",
          "text": [
            "21/21 [==============================] - 18s 736ms/step\n"
          ],
          "name": "stdout"
        }
      ]
    },
    {
      "cell_type": "markdown",
      "metadata": {
        "id": "ZEF3JRNiEAiR"
      },
      "source": [
        "trial"
      ]
    },
    {
      "cell_type": "code",
      "metadata": {
        "colab": {
          "base_uri": "https://localhost:8080/"
        },
        "id": "8FyavBmA03TP",
        "outputId": "bc0afbab-770d-41ef-f829-f3c073978ab2"
      },
      "source": [
        "#input=('/content/dataset/default/080721img41985.jpg')\n",
        "\n",
        "img = image.load_img(input, target_size=(224, 224))\n",
        "input = image.img_to_array(img)                           \n",
        "input = input.reshape((1,) + input.shape)                   \n",
        "input /= 255.0\n",
        "np.argmax(model.predict(input))"
      ],
      "execution_count": 41,
      "outputs": [
        {
          "output_type": "execute_result",
          "data": {
            "text/plain": [
              "0"
            ]
          },
          "metadata": {
            "tags": []
          },
          "execution_count": 41
        }
      ]
    },
    {
      "cell_type": "code",
      "metadata": {
        "colab": {
          "base_uri": "https://localhost:8080/",
          "height": 336
        },
        "id": "EUfUIab8H3jR",
        "outputId": "91e2e9f4-1d6a-4a80-deca-f69f4c8882ad"
      },
      "source": [
        "from keras.models import Model\n",
        "\n",
        "layer_outputs = [layer.output for layer in model.layers[:12]] # Extracts the outputs of the top 12 layers\n",
        "activation_model = Model(inputs=model.input, outputs=layer_outputs) # Creates a model that will return these outputs, given the model input\n",
        "\n",
        "activations = activation_model.predict(input) # Returns a list of five Numpy arrays: one array per layer activation\n",
        "\n",
        "\n",
        "layer_names = []\n",
        "for layer in model.layers[:12]:\n",
        "    layer_names.append(layer.name) # Names of the layers, so you can have them as part of your plot\n",
        "    \n",
        "images_per_row = 16\n",
        "for layer_name, layer_activation in zip(layer_names, activations): # Displays the feature maps\n",
        "    n_features = layer_activation.shape[-1] # Number of features in the feature map\n",
        "    size = layer_activation.shape[1] #The feature map has shape (1, size, size, n_features).\n",
        "    n_cols = n_features // images_per_row # Tiles the activation channels in this matrix\n",
        "    display_grid = np.zeros((size * n_cols, images_per_row * size))\n",
        "    for col in range(n_cols): # Tiles each filter into a big horizontal grid\n",
        "        for row in range(images_per_row):\n",
        "            channel_image = layer_activation[0,\n",
        "                                             :, :,\n",
        "                                             col * images_per_row + row]\n",
        "            channel_image -= channel_image.mean() # Post-processes the feature to make it visually palatable\n",
        "            channel_image /= channel_image.std()\n",
        "            channel_image *= 64\n",
        "            channel_image += 128\n",
        "            channel_image = np.clip(channel_image, 0, 255).astype('uint8')\n",
        "            display_grid[col * size : (col + 1) * size, # Displays the grid\n",
        "                         row * size : (row + 1) * size] = channel_image\n",
        "    scale = 1. / size\n",
        "    plt.title(layer_name)\n",
        "    plt.grid(False)\n",
        "    plt.imshow(display_grid, aspect='auto', cmap='viridis')"
      ],
      "execution_count": 49,
      "outputs": [
        {
          "output_type": "stream",
          "text": [
            "WARNING:tensorflow:5 out of the last 5 calls to <function Model.make_predict_function.<locals>.predict_function at 0x7f6880d36ef0> triggered tf.function retracing. Tracing is expensive and the excessive number of tracings could be due to (1) creating @tf.function repeatedly in a loop, (2) passing tensors with different shapes, (3) passing Python objects instead of tensors. For (1), please define your @tf.function outside of the loop. For (2), @tf.function has experimental_relax_shapes=True option that relaxes argument shapes that can avoid unnecessary retracing. For (3), please refer to https://www.tensorflow.org/guide/function#controlling_retracing and https://www.tensorflow.org/api_docs/python/tf/function for  more details.\n"
          ],
          "name": "stdout"
        },
        {
          "output_type": "stream",
          "text": [
            "/usr/local/lib/python3.7/dist-packages/ipykernel_launcher.py:34: UserWarning: Attempting to set identical bottom == top == -0.5 results in singular transformations; automatically expanding.\n"
          ],
          "name": "stderr"
        },
        {
          "output_type": "display_data",
          "data": {
            "image/png": "[encoded data removed]",
            "text/plain": [
              "<Figure size 432x288 with 1 Axes>"
            ]
          },
          "metadata": {
            "tags": [],
            "needs_background": "light"
          }
        }
      ]
    },
    {
      "cell_type": "markdown",
      "metadata": {
        "id": "n6VZNEKZcL6d"
      },
      "source": [
        "#model for grayscale/edge images"
      ]
    },
    {
      "cell_type": "code",
      "metadata": {
        "id": "3NuABXeZcAaE",
        "colab": {
          "base_uri": "https://localhost:8080/"
        },
        "outputId": "11c08384-7fe5-4dab-c926-f74bef566a32"
      },
      "source": [
        "model = MobileNet(input_shape=(size, size, 1), alpha=1., weights=None, classes=5)\n",
        "model.compile(optimizer=Adam(lr=0.002), loss='categorical_crossentropy',\n",
        "              metrics=['accuracy'])\n",
        "print(model.summary())"
      ],
      "execution_count": null,
      "outputs": [
        {
          "output_type": "stream",
          "text": [
            "Model: \"mobilenet_1.00_512\"\n",
            "_________________________________________________________________\n",
            "Layer (type)                 Output Shape              Param #   \n",
            "=================================================================\n",
            "input_1 (InputLayer)         [(None, 512, 512, 1)]     0         \n",
            "_________________________________________________________________\n",
            "conv1 (Conv2D)               (None, 256, 256, 32)      288       \n",
            "_________________________________________________________________\n",
            "conv1_bn (BatchNormalization (None, 256, 256, 32)      128       \n",
            "_________________________________________________________________\n",
            "conv1_relu (ReLU)            (None, 256, 256, 32)      0         \n",
            "_________________________________________________________________\n",
            "conv_dw_1 (DepthwiseConv2D)  (None, 256, 256, 32)      288       \n",
            "_________________________________________________________________\n",
            "conv_dw_1_bn (BatchNormaliza (None, 256, 256, 32)      128       \n",
            "_________________________________________________________________\n",
            "conv_dw_1_relu (ReLU)        (None, 256, 256, 32)      0         \n",
            "_________________________________________________________________\n",
            "conv_pw_1 (Conv2D)           (None, 256, 256, 64)      2048      \n",
            "_________________________________________________________________\n",
            "conv_pw_1_bn (BatchNormaliza (None, 256, 256, 64)      256       \n",
            "_________________________________________________________________\n",
            "conv_pw_1_relu (ReLU)        (None, 256, 256, 64)      0         \n",
            "_________________________________________________________________\n",
            "conv_pad_2 (ZeroPadding2D)   (None, 257, 257, 64)      0         \n",
            "_________________________________________________________________\n",
            "conv_dw_2 (DepthwiseConv2D)  (None, 128, 128, 64)      576       \n",
            "_________________________________________________________________\n",
            "conv_dw_2_bn (BatchNormaliza (None, 128, 128, 64)      256       \n",
            "_________________________________________________________________\n",
            "conv_dw_2_relu (ReLU)        (None, 128, 128, 64)      0         \n",
            "_________________________________________________________________\n",
            "conv_pw_2 (Conv2D)           (None, 128, 128, 128)     8192      \n",
            "_________________________________________________________________\n",
            "conv_pw_2_bn (BatchNormaliza (None, 128, 128, 128)     512       \n",
            "_________________________________________________________________\n",
            "conv_pw_2_relu (ReLU)        (None, 128, 128, 128)     0         \n",
            "_________________________________________________________________\n",
            "conv_dw_3 (DepthwiseConv2D)  (None, 128, 128, 128)     1152      \n",
            "_________________________________________________________________\n",
            "conv_dw_3_bn (BatchNormaliza (None, 128, 128, 128)     512       \n",
            "_________________________________________________________________\n",
            "conv_dw_3_relu (ReLU)        (None, 128, 128, 128)     0         \n",
            "_________________________________________________________________\n",
            "conv_pw_3 (Conv2D)           (None, 128, 128, 128)     16384     \n",
            "_________________________________________________________________\n",
            "conv_pw_3_bn (BatchNormaliza (None, 128, 128, 128)     512       \n",
            "_________________________________________________________________\n",
            "conv_pw_3_relu (ReLU)        (None, 128, 128, 128)     0         \n",
            "_________________________________________________________________\n",
            "conv_pad_4 (ZeroPadding2D)   (None, 129, 129, 128)     0         \n",
            "_________________________________________________________________\n",
            "conv_dw_4 (DepthwiseConv2D)  (None, 64, 64, 128)       1152      \n",
            "_________________________________________________________________\n",
            "conv_dw_4_bn (BatchNormaliza (None, 64, 64, 128)       512       \n",
            "_________________________________________________________________\n",
            "conv_dw_4_relu (ReLU)        (None, 64, 64, 128)       0         \n",
            "_________________________________________________________________\n",
            "conv_pw_4 (Conv2D)           (None, 64, 64, 256)       32768     \n",
            "_________________________________________________________________\n",
            "conv_pw_4_bn (BatchNormaliza (None, 64, 64, 256)       1024      \n",
            "_________________________________________________________________\n",
            "conv_pw_4_relu (ReLU)        (None, 64, 64, 256)       0         \n",
            "_________________________________________________________________\n",
            "conv_dw_5 (DepthwiseConv2D)  (None, 64, 64, 256)       2304      \n",
            "_________________________________________________________________\n",
            "conv_dw_5_bn (BatchNormaliza (None, 64, 64, 256)       1024      \n",
            "_________________________________________________________________\n",
            "conv_dw_5_relu (ReLU)        (None, 64, 64, 256)       0         \n",
            "_________________________________________________________________\n",
            "conv_pw_5 (Conv2D)           (None, 64, 64, 256)       65536     \n",
            "_________________________________________________________________\n",
            "conv_pw_5_bn (BatchNormaliza (None, 64, 64, 256)       1024      \n",
            "_________________________________________________________________\n",
            "conv_pw_5_relu (ReLU)        (None, 64, 64, 256)       0         \n",
            "_________________________________________________________________\n",
            "conv_pad_6 (ZeroPadding2D)   (None, 65, 65, 256)       0         \n",
            "_________________________________________________________________\n",
            "conv_dw_6 (DepthwiseConv2D)  (None, 32, 32, 256)       2304      \n",
            "_________________________________________________________________\n",
            "conv_dw_6_bn (BatchNormaliza (None, 32, 32, 256)       1024      \n",
            "_________________________________________________________________\n",
            "conv_dw_6_relu (ReLU)        (None, 32, 32, 256)       0         \n",
            "_________________________________________________________________\n",
            "conv_pw_6 (Conv2D)           (None, 32, 32, 512)       131072    \n",
            "_________________________________________________________________\n",
            "conv_pw_6_bn (BatchNormaliza (None, 32, 32, 512)       2048      \n",
            "_________________________________________________________________\n",
            "conv_pw_6_relu (ReLU)        (None, 32, 32, 512)       0         \n",
            "_________________________________________________________________\n",
            "conv_dw_7 (DepthwiseConv2D)  (None, 32, 32, 512)       4608      \n",
            "_________________________________________________________________\n",
            "conv_dw_7_bn (BatchNormaliza (None, 32, 32, 512)       2048      \n",
            "_________________________________________________________________\n",
            "conv_dw_7_relu (ReLU)        (None, 32, 32, 512)       0         \n",
            "_________________________________________________________________\n",
            "conv_pw_7 (Conv2D)           (None, 32, 32, 512)       262144    \n",
            "_________________________________________________________________\n",
            "conv_pw_7_bn (BatchNormaliza (None, 32, 32, 512)       2048      \n",
            "_________________________________________________________________\n",
            "conv_pw_7_relu (ReLU)        (None, 32, 32, 512)       0         \n",
            "_________________________________________________________________\n",
            "conv_dw_8 (DepthwiseConv2D)  (None, 32, 32, 512)       4608      \n",
            "_________________________________________________________________\n",
            "conv_dw_8_bn (BatchNormaliza (None, 32, 32, 512)       2048      \n",
            "_________________________________________________________________\n",
            "conv_dw_8_relu (ReLU)        (None, 32, 32, 512)       0         \n",
            "_________________________________________________________________\n",
            "conv_pw_8 (Conv2D)           (None, 32, 32, 512)       262144    \n",
            "_________________________________________________________________\n",
            "conv_pw_8_bn (BatchNormaliza (None, 32, 32, 512)       2048      \n",
            "_________________________________________________________________\n",
            "conv_pw_8_relu (ReLU)        (None, 32, 32, 512)       0         \n",
            "_________________________________________________________________\n",
            "conv_dw_9 (DepthwiseConv2D)  (None, 32, 32, 512)       4608      \n",
            "_________________________________________________________________\n",
            "conv_dw_9_bn (BatchNormaliza (None, 32, 32, 512)       2048      \n",
            "_________________________________________________________________\n",
            "conv_dw_9_relu (ReLU)        (None, 32, 32, 512)       0         \n",
            "_________________________________________________________________\n",
            "conv_pw_9 (Conv2D)           (None, 32, 32, 512)       262144    \n",
            "_________________________________________________________________\n",
            "conv_pw_9_bn (BatchNormaliza (None, 32, 32, 512)       2048      \n",
            "_________________________________________________________________\n",
            "conv_pw_9_relu (ReLU)        (None, 32, 32, 512)       0         \n",
            "_________________________________________________________________\n",
            "conv_dw_10 (DepthwiseConv2D) (None, 32, 32, 512)       4608      \n",
            "_________________________________________________________________\n",
            "conv_dw_10_bn (BatchNormaliz (None, 32, 32, 512)       2048      \n",
            "_________________________________________________________________\n",
            "conv_dw_10_relu (ReLU)       (None, 32, 32, 512)       0         \n",
            "_________________________________________________________________\n",
            "conv_pw_10 (Conv2D)          (None, 32, 32, 512)       262144    \n",
            "_________________________________________________________________\n",
            "conv_pw_10_bn (BatchNormaliz (None, 32, 32, 512)       2048      \n",
            "_________________________________________________________________\n",
            "conv_pw_10_relu (ReLU)       (None, 32, 32, 512)       0         \n",
            "_________________________________________________________________\n",
            "conv_dw_11 (DepthwiseConv2D) (None, 32, 32, 512)       4608      \n",
            "_________________________________________________________________\n",
            "conv_dw_11_bn (BatchNormaliz (None, 32, 32, 512)       2048      \n",
            "_________________________________________________________________\n",
            "conv_dw_11_relu (ReLU)       (None, 32, 32, 512)       0         \n",
            "_________________________________________________________________\n",
            "conv_pw_11 (Conv2D)          (None, 32, 32, 512)       262144    \n",
            "_________________________________________________________________\n",
            "conv_pw_11_bn (BatchNormaliz (None, 32, 32, 512)       2048      \n",
            "_________________________________________________________________\n",
            "conv_pw_11_relu (ReLU)       (None, 32, 32, 512)       0         \n",
            "_________________________________________________________________\n",
            "conv_pad_12 (ZeroPadding2D)  (None, 33, 33, 512)       0         \n",
            "_________________________________________________________________\n",
            "conv_dw_12 (DepthwiseConv2D) (None, 16, 16, 512)       4608      \n",
            "_________________________________________________________________\n",
            "conv_dw_12_bn (BatchNormaliz (None, 16, 16, 512)       2048      \n",
            "_________________________________________________________________\n",
            "conv_dw_12_relu (ReLU)       (None, 16, 16, 512)       0         \n",
            "_________________________________________________________________\n",
            "conv_pw_12 (Conv2D)          (None, 16, 16, 1024)      524288    \n",
            "_________________________________________________________________\n",
            "conv_pw_12_bn (BatchNormaliz (None, 16, 16, 1024)      4096      \n",
            "_________________________________________________________________\n",
            "conv_pw_12_relu (ReLU)       (None, 16, 16, 1024)      0         \n",
            "_________________________________________________________________\n",
            "conv_dw_13 (DepthwiseConv2D) (None, 16, 16, 1024)      9216      \n",
            "_________________________________________________________________\n",
            "conv_dw_13_bn (BatchNormaliz (None, 16, 16, 1024)      4096      \n",
            "_________________________________________________________________\n",
            "conv_dw_13_relu (ReLU)       (None, 16, 16, 1024)      0         \n",
            "_________________________________________________________________\n",
            "conv_pw_13 (Conv2D)          (None, 16, 16, 1024)      1048576   \n",
            "_________________________________________________________________\n",
            "conv_pw_13_bn (BatchNormaliz (None, 16, 16, 1024)      4096      \n",
            "_________________________________________________________________\n",
            "conv_pw_13_relu (ReLU)       (None, 16, 16, 1024)      0         \n",
            "_________________________________________________________________\n",
            "global_average_pooling2d (Gl (None, 1024)              0         \n",
            "_________________________________________________________________\n",
            "reshape_1 (Reshape)          (None, 1, 1, 1024)        0         \n",
            "_________________________________________________________________\n",
            "dropout (Dropout)            (None, 1, 1, 1024)        0         \n",
            "_________________________________________________________________\n",
            "conv_preds (Conv2D)          (None, 1, 1, 5)           5125      \n",
            "_________________________________________________________________\n",
            "reshape_2 (Reshape)          (None, 5)                 0         \n",
            "_________________________________________________________________\n",
            "predictions (Activation)     (None, 5)                 0         \n",
            "=================================================================\n",
            "Total params: 3,233,413\n",
            "Trainable params: 3,211,525\n",
            "Non-trainable params: 21,888\n",
            "_________________________________________________________________\n",
            "None\n"
          ],
          "name": "stdout"
        },
        {
          "output_type": "stream",
          "text": [
            "/usr/local/lib/python3.7/dist-packages/tensorflow/python/keras/optimizer_v2/optimizer_v2.py:375: UserWarning: The `lr` argument is deprecated, use `learning_rate` instead.\n",
            "  \"The `lr` argument is deprecated, use `learning_rate` instead.\")\n"
          ],
          "name": "stderr"
        }
      ]
    },
    {
      "cell_type": "code",
      "metadata": {
        "id": "E691yAf4caaU",
        "colab": {
          "base_uri": "https://localhost:8080/"
        },
        "outputId": "80f59335-34bf-49d8-fc99-5693d5e7ca38"
      },
      "source": [
        "INPUT_DIR = '/content/drive/MyDrive/edge dataset'\n",
        "datagen = ImageDataGenerator(\n",
        "        rotation_range=40,\n",
        "        width_shift_range=0.2,\n",
        "        height_shift_range=0.2,\n",
        "        rescale=1./255,\n",
        "        shear_range=0.2,\n",
        "        zoom_range=0.2,\n",
        "        horizontal_flip=True,\n",
        "        fill_mode='nearest',validation_split=0.3)\n",
        "validation_generator=datagen.flow_from_directory(INPUT_DIR,\n",
        "                            target_size=(size,size),\n",
        "                            color_mode='grayscale',\n",
        "                            class_mode='categorical',\n",
        "                            batch_size=batchsize,\n",
        "                            seed=1996,\n",
        "                            subset='validation')\n",
        "train_generator=datagen.flow_from_directory(INPUT_DIR,\n",
        "                            target_size=(size,size),\n",
        "                            color_mode='grayscale',\n",
        "                            class_mode='categorical',\n",
        "                            batch_size=batchsize,\n",
        "                            seed=1996,\n",
        "                            subset='training')"
      ],
      "execution_count": null,
      "outputs": [
        {
          "output_type": "stream",
          "text": [
            "Found 1026 images belonging to 5 classes.\n",
            "Found 2403 images belonging to 5 classes.\n"
          ],
          "name": "stdout"
        }
      ]
    },
    {
      "cell_type": "markdown",
      "metadata": {
        "id": "TrKe2-fU9IaQ"
      },
      "source": [
        ""
      ]
    },
    {
      "cell_type": "code",
      "metadata": {
        "id": "p5c6pT-jfr8C",
        "colab": {
          "base_uri": "https://localhost:8080/"
        },
        "outputId": "4eb6afd0-1eee-4c1a-aa06-29b26bba5a05"
      },
      "source": [
        "from sklearn.utils import class_weight \n",
        "class_weights = class_weight.compute_class_weight(\n",
        "           'balanced',\n",
        "            np.unique(train_generator.classes), \n",
        "            train_generator.classes)\n",
        "class_weights= dict(enumerate(class_weights))\n",
        "checkpoint_filepath = '/content/checkpoint'\n",
        "model_checkpoint_callback = tf.keras.callbacks.ModelCheckpoint(\n",
        "    filepath=checkpoint_filepath,\n",
        "    save_weights_only=True,\n",
        "    monitor='val_accuracy',\n",
        "    mode='max',\n",
        "    save_best_only=True)\n",
        "model.fit_generator(train_generator,\n",
        "    steps_per_epoch = train_generator.samples // batchsize,\n",
        "    validation_data = validation_generator, \n",
        "    validation_steps = validation_generator.samples // batchsize,\n",
        "    epochs = EPOCHS,\n",
        "    class_weight=class_weights,callbacks=[model_checkpoint_callback],workers=4)"
      ],
      "execution_count": null,
      "outputs": [
        {
          "output_type": "stream",
          "text": [
            "/usr/local/lib/python3.7/dist-packages/tensorflow/python/keras/engine/training.py:1940: UserWarning: `Model.fit_generator` is deprecated and will be removed in a future version. Please use `Model.fit`, which supports generators.\n",
            "  warnings.warn('`Model.fit_generator` is deprecated and '\n"
          ],
          "name": "stderr"
        },
        {
          "output_type": "stream",
          "text": [
            "WARNING:tensorflow:From /usr/local/lib/python3.7/dist-packages/tensorflow/python/ops/array_ops.py:5049: calling gather (from tensorflow.python.ops.array_ops) with validate_indices is deprecated and will be removed in a future version.\n",
            "Instructions for updating:\n",
            "The `validate_indices` argument has no effect. Indices are always validated on CPU and never validated on GPU.\n",
            "Epoch 1/50\n",
            "48/48 [==============================] - 280s 5s/step - loss: 1.2515 - accuracy: 0.3519 - val_loss: 1.7718 - val_accuracy: 0.0700\n",
            "Epoch 2/50\n",
            "48/48 [==============================] - 105s 2s/step - loss: 0.8222 - accuracy: 0.5593 - val_loss: 1.6548 - val_accuracy: 0.0710\n",
            "Epoch 3/50\n",
            "48/48 [==============================] - 105s 2s/step - loss: 0.6363 - accuracy: 0.6634 - val_loss: 1.6313 - val_accuracy: 0.0710\n",
            "Epoch 4/50\n",
            "48/48 [==============================] - 103s 2s/step - loss: 0.5659 - accuracy: 0.6893 - val_loss: 1.5659 - val_accuracy: 0.6120\n",
            "Epoch 5/50\n",
            "48/48 [==============================] - 107s 2s/step - loss: 0.4855 - accuracy: 0.7556 - val_loss: 1.6424 - val_accuracy: 0.6120\n",
            "Epoch 6/50\n",
            "48/48 [==============================] - 106s 2s/step - loss: 0.4148 - accuracy: 0.7756 - val_loss: 1.5478 - val_accuracy: 0.6200\n",
            "Epoch 7/50\n",
            "48/48 [==============================] - 106s 2s/step - loss: 0.3620 - accuracy: 0.8253 - val_loss: 1.6116 - val_accuracy: 0.6180\n",
            "Epoch 8/50\n",
            "48/48 [==============================] - 105s 2s/step - loss: 0.3436 - accuracy: 0.8398 - val_loss: 1.6131 - val_accuracy: 0.6160\n",
            "Epoch 9/50\n",
            "48/48 [==============================] - 107s 2s/step - loss: 0.4618 - accuracy: 0.7646 - val_loss: 4.7296 - val_accuracy: 0.0720\n",
            "Epoch 10/50\n",
            "48/48 [==============================] - 106s 2s/step - loss: 0.4222 - accuracy: 0.7782 - val_loss: 2.2124 - val_accuracy: 0.0690\n",
            "Epoch 11/50\n",
            "48/48 [==============================] - 107s 2s/step - loss: 0.2896 - accuracy: 0.8542 - val_loss: 1.4327 - val_accuracy: 0.6200\n",
            "Epoch 12/50\n",
            "48/48 [==============================] - 106s 2s/step - loss: 0.2830 - accuracy: 0.8670 - val_loss: 1.4274 - val_accuracy: 0.6150\n",
            "Epoch 13/50\n",
            "48/48 [==============================] - 105s 2s/step - loss: 0.2093 - accuracy: 0.9018 - val_loss: 1.1340 - val_accuracy: 0.7120\n",
            "Epoch 14/50\n",
            "48/48 [==============================] - 107s 2s/step - loss: 0.1841 - accuracy: 0.9057 - val_loss: 1.3263 - val_accuracy: 0.6200\n",
            "Epoch 15/50\n",
            "48/48 [==============================] - 106s 2s/step - loss: 0.1863 - accuracy: 0.9099 - val_loss: 1.4042 - val_accuracy: 0.6210\n",
            "Epoch 16/50\n",
            "48/48 [==============================] - 107s 2s/step - loss: 0.2900 - accuracy: 0.8491 - val_loss: 4.4684 - val_accuracy: 0.4380\n",
            "Epoch 17/50\n",
            "48/48 [==============================] - 108s 2s/step - loss: 0.2055 - accuracy: 0.8946 - val_loss: 3.7659 - val_accuracy: 0.3310\n",
            "Epoch 18/50\n",
            "48/48 [==============================] - 114s 2s/step - loss: 0.1367 - accuracy: 0.9316 - val_loss: 1.3148 - val_accuracy: 0.6840\n",
            "Epoch 19/50\n",
            "48/48 [==============================] - 107s 2s/step - loss: 0.1309 - accuracy: 0.9354 - val_loss: 5.7320 - val_accuracy: 0.3230\n",
            "Epoch 20/50\n",
            "48/48 [==============================] - 107s 2s/step - loss: 0.2773 - accuracy: 0.8763 - val_loss: 5.4725 - val_accuracy: 0.4180\n",
            "Epoch 21/50\n",
            "48/48 [==============================] - 108s 2s/step - loss: 0.1701 - accuracy: 0.9227 - val_loss: 3.0742 - val_accuracy: 0.5360\n",
            "Epoch 22/50\n",
            "48/48 [==============================] - 106s 2s/step - loss: 0.1561 - accuracy: 0.9329 - val_loss: 1.5324 - val_accuracy: 0.6250\n",
            "Epoch 23/50\n",
            "48/48 [==============================] - 107s 2s/step - loss: 0.2247 - accuracy: 0.8895 - val_loss: 8.7351 - val_accuracy: 0.3360\n",
            "Epoch 24/50\n",
            "48/48 [==============================] - 106s 2s/step - loss: 0.2815 - accuracy: 0.8644 - val_loss: 5.3079 - val_accuracy: 0.0960\n",
            "Epoch 25/50\n",
            "48/48 [==============================] - 105s 2s/step - loss: 0.3668 - accuracy: 0.8483 - val_loss: 7.9205 - val_accuracy: 0.1930\n",
            "Epoch 26/50\n",
            "48/48 [==============================] - 104s 2s/step - loss: 0.1905 - accuracy: 0.9125 - val_loss: 21.6483 - val_accuracy: 0.1400\n",
            "Epoch 27/50\n",
            "48/48 [==============================] - 107s 2s/step - loss: 0.7145 - accuracy: 0.6821 - val_loss: 18.0071 - val_accuracy: 0.2370\n",
            "Epoch 28/50\n",
            "48/48 [==============================] - 105s 2s/step - loss: 0.2100 - accuracy: 0.8955 - val_loss: 5.6783 - val_accuracy: 0.4570\n",
            "Epoch 29/50\n",
            "48/48 [==============================] - 104s 2s/step - loss: 0.1668 - accuracy: 0.9269 - val_loss: 0.8679 - val_accuracy: 0.7540\n",
            "Epoch 30/50\n",
            "48/48 [==============================] - 113s 2s/step - loss: 0.1684 - accuracy: 0.9184 - val_loss: 6.3088 - val_accuracy: 0.2870\n",
            "Epoch 31/50\n",
            "48/48 [==============================] - 105s 2s/step - loss: 0.1742 - accuracy: 0.9092 - val_loss: 0.9598 - val_accuracy: 0.7750\n",
            "Epoch 32/50\n",
            "48/48 [==============================] - 105s 2s/step - loss: 0.0890 - accuracy: 0.9588 - val_loss: 0.7348 - val_accuracy: 0.8100\n",
            "Epoch 33/50\n",
            "48/48 [==============================] - 104s 2s/step - loss: 0.1033 - accuracy: 0.9439 - val_loss: 3.1750 - val_accuracy: 0.4760\n",
            "Epoch 34/50\n",
            "48/48 [==============================] - 103s 2s/step - loss: 0.0848 - accuracy: 0.9592 - val_loss: 0.8945 - val_accuracy: 0.6840\n",
            "Epoch 35/50\n",
            "48/48 [==============================] - 105s 2s/step - loss: 0.1115 - accuracy: 0.9490 - val_loss: 6.6074 - val_accuracy: 0.3630\n",
            "Epoch 36/50\n",
            "48/48 [==============================] - 104s 2s/step - loss: 0.1738 - accuracy: 0.9303 - val_loss: 16.7646 - val_accuracy: 0.2170\n",
            "Epoch 37/50\n",
            "48/48 [==============================] - 105s 2s/step - loss: 0.2132 - accuracy: 0.8780 - val_loss: 23.4427 - val_accuracy: 0.2350\n",
            "Epoch 38/50\n",
            "48/48 [==============================] - 105s 2s/step - loss: 0.1354 - accuracy: 0.9235 - val_loss: 1.9137 - val_accuracy: 0.6230\n",
            "Epoch 39/50\n",
            "48/48 [==============================] - 105s 2s/step - loss: 0.0913 - accuracy: 0.9550 - val_loss: 1.6772 - val_accuracy: 0.6520\n",
            "Epoch 40/50\n",
            "48/48 [==============================] - 105s 2s/step - loss: 0.5188 - accuracy: 0.7344 - val_loss: 9.9046 - val_accuracy: 0.6520\n",
            "Epoch 41/50\n",
            "48/48 [==============================] - 112s 2s/step - loss: 0.2290 - accuracy: 0.8921 - val_loss: 7.0061 - val_accuracy: 0.4200\n",
            "Epoch 42/50\n",
            "48/48 [==============================] - 107s 2s/step - loss: 0.2436 - accuracy: 0.8797 - val_loss: 9.2264 - val_accuracy: 0.1640\n",
            "Epoch 43/50\n",
            "48/48 [==============================] - 106s 2s/step - loss: 0.1241 - accuracy: 0.9401 - val_loss: 7.4736 - val_accuracy: 0.2500\n",
            "Epoch 44/50\n",
            "48/48 [==============================] - 105s 2s/step - loss: 0.2200 - accuracy: 0.8946 - val_loss: 1.6275 - val_accuracy: 0.6720\n",
            "Epoch 45/50\n",
            "48/48 [==============================] - 107s 2s/step - loss: 0.1020 - accuracy: 0.9520 - val_loss: 2.7478 - val_accuracy: 0.4640\n",
            "Epoch 46/50\n",
            "48/48 [==============================] - 106s 2s/step - loss: 0.1039 - accuracy: 0.9507 - val_loss: 0.9857 - val_accuracy: 0.7260\n",
            "Epoch 47/50\n",
            "48/48 [==============================] - 108s 2s/step - loss: 0.0995 - accuracy: 0.9596 - val_loss: 1.1093 - val_accuracy: 0.7410\n",
            "Epoch 48/50\n",
            "48/48 [==============================] - 107s 2s/step - loss: 0.0973 - accuracy: 0.9482 - val_loss: 0.8398 - val_accuracy: 0.7780\n",
            "Epoch 49/50\n",
            "48/48 [==============================] - 106s 2s/step - loss: 0.4953 - accuracy: 0.8474 - val_loss: 10.2728 - val_accuracy: 0.2300\n",
            "Epoch 50/50\n",
            "48/48 [==============================] - 107s 2s/step - loss: 0.1482 - accuracy: 0.9346 - val_loss: 0.4996 - val_accuracy: 0.8180\n"
          ],
          "name": "stdout"
        },
        {
          "output_type": "execute_result",
          "data": {
            "text/plain": [
              "<tensorflow.python.keras.callbacks.History at 0x7fb6410718d0>"
            ]
          },
          "metadata": {
            "tags": []
          },
          "execution_count": 8
        }
      ]
    },
    {
      "cell_type": "code",
      "metadata": {
        "colab": {
          "base_uri": "https://localhost:8080/"
        },
        "id": "nVSmkCxOzktM",
        "outputId": "51ba41fb-32ad-44cf-9fc7-909b5b2449d4"
      },
      "source": [
        "model.save('my_model_gray')"
      ],
      "execution_count": null,
      "outputs": [
        {
          "output_type": "stream",
          "text": [
            "INFO:tensorflow:Assets written to: my_model_gray/assets\n"
          ],
          "name": "stdout"
        }
      ]
    },
    {
      "cell_type": "code",
      "metadata": {
        "id": "hixLsi8xsPjE"
      },
      "source": [
        ""
      ],
      "execution_count": null,
      "outputs": []
    }
  ]
}